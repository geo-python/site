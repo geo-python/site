{
 "cells": [
  {
   "cell_type": "markdown",
   "metadata": {
    "editable": true,
    "slideshow": {
     "slide_type": ""
    },
    "tags": []
   },
   "source": [
    "# Processing data with pandas II\n",
    "\n",
    "```{attention}\n",
    "Finnish university students are encouraged to use the CSC Noppe platform.<br/>\n",
    "<a href=\"https://noppe.csc.fi/\"><img alt=\"CSC badge\" src=\"https://img.shields.io/badge/launch-CSC%20Noppe-blue.svg\" style=\"vertical-align:text-bottom\"></a>\n",
    "```\n",
    "\n",
    "```{note}\n",
    "We do not recommended using Binder for this lesson.\n",
    "```\n",
    "\n",
    "This week we will continue developing our skills using [pandas](https://pandas.pydata.org/) to process real data. \n",
    "\n",
    "## Motivation\n",
    "\n",
    "![YLE news article from summer 2024](img/yle-summer-2024.png)<br/>\n",
    "*Source: [https://yle.fi/a/74-20109657](https://yle.fi/a/74-20109657)*\n",
    "\n",
    "Finland's record for the largest number of 'hot' days was broken in summer 2024 after temperatures breached the official 'heatwave' threshold of 25 degrees Celsius more than 66 times this year. The previous record of 65 hot days was reached in 2002, according to Finnish Meteorological Institute (FMI) statistics [Source: YLE](https://yle.fi/a/74-20109657).\n",
    "\n",
    "In this lesson, we will use our data manipulation and analysis skills to analyze weather data, and investigate how hot this summer has been in general in Helsinki and whether this breaking record is valid for several other cities across Finland (Helsinki, Oulu, Lappeenranta, Porvoo, Rovaniemi, and Turku). \n",
    "\n",
    "Along the way we will cover a number of useful techniques in pandas including:\n",
    "\n",
    "- renaming columns\n",
    "- iterating data frame rows and applying functions\n",
    "- data aggregation\n",
    "- repeating the analysis task for several input files"
   ]
  },
  {
   "cell_type": "markdown",
   "metadata": {
    "editable": true,
    "slideshow": {
     "slide_type": ""
    },
    "tags": []
   },
   "source": [
    "## Input data\n",
    "\n",
    "In the lesson this week we are using weather observation data from the [Finnish Meteorological Institute](https://en.ilmatieteenlaitos.fi). You will be working with temperature data recorded in Helsinki (Kumpula), Lappeenranta (airport), Oulu (Vihreäsaari harbor), Porvoo (Emäsalo), Rovaniemi (railway stattion), and Turku (Rajakari) between June 1st and August 31st 2024."
   ]
  },
  {
   "cell_type": "markdown",
   "metadata": {
    "editable": true,
    "slideshow": {
     "slide_type": ""
    },
    "tags": []
   },
   "source": [
    "### Downloading the data\n",
    "\n",
    "**If you are using the CSC Noppe environment, there is no need to download the data manually**. The data can be found in the `data` directory.\n",
    "\n",
    "However, if you are working in another environment or if you are curious, the data is easily downloadable from the [Finnish Meteorological Institute's open data portal](https://en.ilmatieteenlaitos.fi/download-observations).\n",
    "\n",
    "![Finnish meteorological institute data portal](img/fmi.png)  \n",
    "*Source: [FMI Open Data Portal](https://en.ilmatieteenlaitos.fi/download-observations)*\n",
    "\n",
    "Simply choose the parameters you want in your dataset (for this lesson: Air temperature), select the correct time interval (for this lesson: Hourly), choose the aggregation method (Mean), set the time period (1.6.2024 - 31.8.2024), and select the observation station. You can then download the data in various formats. In this lesson we will use CSV files downloaded from the portal.\n",
    "\n",
    "For this lesson, we are accessing the files from the `data` directory. For simplicity, the CSV files have been renamed as follows:\n",
    "\n",
    "```\n",
    "Helsinki_Kumpula.csv\n",
    "Lappeenranta_airport.csv\n",
    "Oulu_harbour.csv\n",
    "Porvoo_Emäsalo.csv\n",
    "Rovaniemi_station.csv\n",
    "Turku_Rajakari.csv\n",
    "```\n",
    "\n",
    "Now you should be all set to proceed with the lesson!"
   ]
  },
  {
   "cell_type": "markdown",
   "metadata": {
    "editable": true,
    "slideshow": {
     "slide_type": ""
    },
    "tags": []
   },
   "source": [
    "## About the data\n",
    "\n",
    "The CSV files have the following structure:\n",
    "\n",
    "```\n",
    "Observation station,Year,Month,Day,Time [Local time],Air temperature mean [°C],Relative humidity mean [%],Gust speed mean [m/s]\n",
    "Helsinki Kumpula,2024,6,1,00:00,19.3,69.6,1.9\n",
    "```\n",
    "\n",
    "As you can see, the columns are comma-separated. Below is a snippet showing the first row of data from the Helsinki Kumpula observation station:\n",
    "\n",
    "| Observation station | Year | Month | Day | Time [Local time] | Air temperature mean [°C] | Relative humidity mean [%] | Gust speed mean [m/s] |\n",
    "|---------------------|------|-------|-----|-------------------|---------------------------|----------------------------|-----------------------|\n",
    "| Helsinki Kumpula    | 2024 | 6     | 1   | 00:00             | 19.3                      | 69.6                       | 1.9                   |\n",
    "\n",
    "The column names are rather self-explanatory. Here’s a breakdown of what each column contains:\n",
    "\n",
    "- **Observation station**: The name of the weather station where the measurements were recorded (e.g., Helsinki Kumpula).\n",
    "- **Year**: The year in which the data was recorded.\n",
    "- **Month**: The month in which the data was recorded, represented numerically (e.g., 6 for June).\n",
    "- **Day**: The specific day of the month on which the data was recorded.\n",
    "- **Time [Local time]**: The time at which the air temperature and other variables were measured, expressed in local time using a 24-hour format.\n",
    "- **Air temperature mean [°C]**: The mean air temperature recorded at the given time, measured in degrees Celsius.\n",
    "- **Relative humidity mean [%]**: The average relative humidity at the given time, measured as a percentage.\n",
    "- **Gust speed mean [m/s]**: The mean wind gust speed at the given time, measured in meters per second.\n",
    "\n",
    "We will develop our analysis workflow using data from a single station. Then, we will repeat the same process for all the stations."
   ]
  },
  {
   "cell_type": "markdown",
   "metadata": {},
   "source": [
    "## Reading the data\n",
    "\n",
    "In order to get started, let's first import `pandas`."
   ]
  },
  {
   "cell_type": "code",
   "execution_count": 1,
   "metadata": {},
   "outputs": [],
   "source": [
    "import pandas as pd"
   ]
  },
  {
   "cell_type": "markdown",
   "metadata": {},
   "source": [
    "At this point, we can already have a quick look at the data file `Helsinki_Kumpula.csv` and how it is structured."
   ]
  },
  {
   "cell_type": "code",
   "execution_count": 2,
   "metadata": {},
   "outputs": [],
   "source": [
    "# Define relative path to the file\n",
    "fp = r\"data/Helsinki_Kumpula.csv\""
   ]
  },
  {
   "cell_type": "code",
   "execution_count": 3,
   "metadata": {
    "editable": true,
    "slideshow": {
     "slide_type": ""
    },
    "tags": []
   },
   "outputs": [],
   "source": [
    "# Read data and specify the \"-\" character for NoData values\n",
    "data = pd.read_csv(fp, na_values=[\"-\"])"
   ]
  },
  {
   "cell_type": "markdown",
   "metadata": {
    "editable": true,
    "slideshow": {
     "slide_type": ""
    },
    "tags": []
   },
   "source": [
    "```{admonition} Handling No Data Values\n",
    "It is common in many datasets (including others we will use later in this lesson) to encounter missing data. These missing values can be handled or represented in various ways depending on the data source. For instance, they could be encoded as arbitrary values like `-9999`, or through special symbols such as varying numbers of asterisks `*`. It's important to inspect your dataset or review the metadata to be aware of how missing values are represented. This ensures that missing data is correctly interpreted during analysis.\n",
    "\n",
    "When reading data files with `pandas`, we can use the `na_values` parameter to specify a list of values that should be treated as missing. For example, if we had a data file in which missing values were represented by varying numbers of `*` characters, we could instruct `pandas` to recognize these as `NaN` by passing the appropriate list to the `na_values` parameter (e.g., `na_values=['*', '**', '***', '****', '*****', '******']`). In addition, if the values were separated by varying numbers of spaces rather than commas we could use the parameter `delim_whitespace=True`. In that case, the data would be read as shown below.\n",
    "\n",
    "```python\n",
    "data = pd.read_csv(\n",
    "    'datafile.csv', delim_whitespace=True, na_values=[\"*\", \"**\", \"***\", \"****\", \"*****\", \"******\"]\n",
    ")\n",
    "```\n",
    "```"
   ]
  },
  {
   "cell_type": "markdown",
   "metadata": {
    "editable": true,
    "slideshow": {
     "slide_type": ""
    },
    "tags": []
   },
   "source": [
    "Let's see how the data looks by printing the first five rows with the `.head()` function:"
   ]
  },
  {
   "cell_type": "code",
   "execution_count": 4,
   "metadata": {
    "collapsed": false
   },
   "outputs": [
    {
     "data": {
      "text/html": [
       "<div>\n",
       "<style scoped>\n",
       "    .dataframe tbody tr th:only-of-type {\n",
       "        vertical-align: middle;\n",
       "    }\n",
       "\n",
       "    .dataframe tbody tr th {\n",
       "        vertical-align: top;\n",
       "    }\n",
       "\n",
       "    .dataframe thead th {\n",
       "        text-align: right;\n",
       "    }\n",
       "</style>\n",
       "<table border=\"1\" class=\"dataframe\">\n",
       "  <thead>\n",
       "    <tr style=\"text-align: right;\">\n",
       "      <th></th>\n",
       "      <th>Observation station</th>\n",
       "      <th>Year</th>\n",
       "      <th>Month</th>\n",
       "      <th>Day</th>\n",
       "      <th>Time [Local time]</th>\n",
       "      <th>Air temperature mean [°C]</th>\n",
       "      <th>Relative humidity mean [%]</th>\n",
       "      <th>Gust speed mean [m/s]</th>\n",
       "    </tr>\n",
       "  </thead>\n",
       "  <tbody>\n",
       "    <tr>\n",
       "      <th>0</th>\n",
       "      <td>Helsinki Kumpula</td>\n",
       "      <td>2024</td>\n",
       "      <td>6</td>\n",
       "      <td>1</td>\n",
       "      <td>00:00</td>\n",
       "      <td>19.3</td>\n",
       "      <td>69.6</td>\n",
       "      <td>1.9</td>\n",
       "    </tr>\n",
       "    <tr>\n",
       "      <th>1</th>\n",
       "      <td>Helsinki Kumpula</td>\n",
       "      <td>2024</td>\n",
       "      <td>6</td>\n",
       "      <td>1</td>\n",
       "      <td>01:00</td>\n",
       "      <td>18.9</td>\n",
       "      <td>72.5</td>\n",
       "      <td>2.7</td>\n",
       "    </tr>\n",
       "    <tr>\n",
       "      <th>2</th>\n",
       "      <td>Helsinki Kumpula</td>\n",
       "      <td>2024</td>\n",
       "      <td>6</td>\n",
       "      <td>1</td>\n",
       "      <td>02:00</td>\n",
       "      <td>19.7</td>\n",
       "      <td>67.4</td>\n",
       "      <td>4.3</td>\n",
       "    </tr>\n",
       "    <tr>\n",
       "      <th>3</th>\n",
       "      <td>Helsinki Kumpula</td>\n",
       "      <td>2024</td>\n",
       "      <td>6</td>\n",
       "      <td>1</td>\n",
       "      <td>03:00</td>\n",
       "      <td>19.4</td>\n",
       "      <td>69.2</td>\n",
       "      <td>5.4</td>\n",
       "    </tr>\n",
       "    <tr>\n",
       "      <th>4</th>\n",
       "      <td>Helsinki Kumpula</td>\n",
       "      <td>2024</td>\n",
       "      <td>6</td>\n",
       "      <td>1</td>\n",
       "      <td>04:00</td>\n",
       "      <td>18.5</td>\n",
       "      <td>73.6</td>\n",
       "      <td>4.5</td>\n",
       "    </tr>\n",
       "  </tbody>\n",
       "</table>\n",
       "</div>"
      ],
      "text/plain": [
       "  Observation station  Year  Month  Day Time [Local time]  \\\n",
       "0    Helsinki Kumpula  2024      6    1             00:00   \n",
       "1    Helsinki Kumpula  2024      6    1             01:00   \n",
       "2    Helsinki Kumpula  2024      6    1             02:00   \n",
       "3    Helsinki Kumpula  2024      6    1             03:00   \n",
       "4    Helsinki Kumpula  2024      6    1             04:00   \n",
       "\n",
       "   Air temperature mean [°C]  Relative humidity mean [%]  \\\n",
       "0                       19.3                        69.6   \n",
       "1                       18.9                        72.5   \n",
       "2                       19.7                        67.4   \n",
       "3                       19.4                        69.2   \n",
       "4                       18.5                        73.6   \n",
       "\n",
       "   Gust speed mean [m/s]  \n",
       "0                    1.9  \n",
       "1                    2.7  \n",
       "2                    4.3  \n",
       "3                    5.4  \n",
       "4                    4.5  "
      ]
     },
     "execution_count": 4,
     "metadata": {},
     "output_type": "execute_result"
    }
   ],
   "source": [
    "data.head()"
   ]
  },
  {
   "cell_type": "markdown",
   "metadata": {},
   "source": [
    "All seems ok. However, we likely won't be needing all of the columns for detecting warm temperatures. We can check all column names by running `data.columns`:"
   ]
  },
  {
   "cell_type": "code",
   "execution_count": 5,
   "metadata": {
    "collapsed": false
   },
   "outputs": [
    {
     "data": {
      "text/plain": [
       "Index(['Observation station', 'Year', 'Month', 'Day', 'Time [Local time]',\n",
       "       'Air temperature mean [°C]', 'Relative humidity mean [%]',\n",
       "       'Gust speed mean [m/s]'],\n",
       "      dtype='object')"
      ]
     },
     "execution_count": 5,
     "metadata": {},
     "output_type": "execute_result"
    }
   ],
   "source": [
    "data.columns"
   ]
  },
  {
   "cell_type": "markdown",
   "source": [
    "### Deleting columns form pandas dataframe\n",
    "\n",
    "You can remove a column from your dataframe using `drop` method. Let's remove the columns `Relative humidity mean [%]` and `Gust speed mean [m/s]` from our dataframe."
   ],
   "metadata": {
    "collapsed": false
   }
  },
  {
   "cell_type": "code",
   "execution_count": null,
   "outputs": [],
   "source": [
    "data = data.drop(columns=[\"Relative humidity mean [%]\",\"Gust speed mean [m/s]\"])"
   ],
   "metadata": {
    "collapsed": false
   }
  },
  {
   "cell_type": "markdown",
   "source": [
    "You can also drop teh columns `inplace` without needing to store it in a veriable. However, be careful with this as it will directly apply the change to your data. \n",
    "\n",
    "```\n",
    "data.drop(columns=[\"Relative humidity mean [%]\",\"Gust speed mean [m/s]\"], inplace = True)\n",
    "```"
   ],
   "metadata": {
    "collapsed": false
   }
  },
  {
   "cell_type": "markdown",
   "metadata": {},
   "source": [
    "### Reading in the data once again\n",
    "\n",
    "This time, we will read in only the columns using the `usecols` parameter. Let's read in the data again but this time without `Relative humidity mean [%]` and `Gust speed mean [m/s]`, which would not be useful for our analysis."
   ]
  },
  {
   "cell_type": "code",
   "execution_count": 6,
   "metadata": {
    "editable": true,
    "slideshow": {
     "slide_type": ""
    },
    "tags": []
   },
   "outputs": [
    {
     "data": {
      "text/html": [
       "<div>\n",
       "<style scoped>\n",
       "    .dataframe tbody tr th:only-of-type {\n",
       "        vertical-align: middle;\n",
       "    }\n",
       "\n",
       "    .dataframe tbody tr th {\n",
       "        vertical-align: top;\n",
       "    }\n",
       "\n",
       "    .dataframe thead th {\n",
       "        text-align: right;\n",
       "    }\n",
       "</style>\n",
       "<table border=\"1\" class=\"dataframe\">\n",
       "  <thead>\n",
       "    <tr style=\"text-align: right;\">\n",
       "      <th></th>\n",
       "      <th>Observation station</th>\n",
       "      <th>Year</th>\n",
       "      <th>Month</th>\n",
       "      <th>Day</th>\n",
       "      <th>Time [Local time]</th>\n",
       "      <th>Air temperature mean [°C]</th>\n",
       "    </tr>\n",
       "  </thead>\n",
       "  <tbody>\n",
       "    <tr>\n",
       "      <th>0</th>\n",
       "      <td>Helsinki Kumpula</td>\n",
       "      <td>2024</td>\n",
       "      <td>6</td>\n",
       "      <td>1</td>\n",
       "      <td>00:00</td>\n",
       "      <td>19.3</td>\n",
       "    </tr>\n",
       "    <tr>\n",
       "      <th>1</th>\n",
       "      <td>Helsinki Kumpula</td>\n",
       "      <td>2024</td>\n",
       "      <td>6</td>\n",
       "      <td>1</td>\n",
       "      <td>01:00</td>\n",
       "      <td>18.9</td>\n",
       "    </tr>\n",
       "    <tr>\n",
       "      <th>2</th>\n",
       "      <td>Helsinki Kumpula</td>\n",
       "      <td>2024</td>\n",
       "      <td>6</td>\n",
       "      <td>1</td>\n",
       "      <td>02:00</td>\n",
       "      <td>19.7</td>\n",
       "    </tr>\n",
       "    <tr>\n",
       "      <th>3</th>\n",
       "      <td>Helsinki Kumpula</td>\n",
       "      <td>2024</td>\n",
       "      <td>6</td>\n",
       "      <td>1</td>\n",
       "      <td>03:00</td>\n",
       "      <td>19.4</td>\n",
       "    </tr>\n",
       "    <tr>\n",
       "      <th>4</th>\n",
       "      <td>Helsinki Kumpula</td>\n",
       "      <td>2024</td>\n",
       "      <td>6</td>\n",
       "      <td>1</td>\n",
       "      <td>04:00</td>\n",
       "      <td>18.5</td>\n",
       "    </tr>\n",
       "  </tbody>\n",
       "</table>\n",
       "</div>"
      ],
      "text/plain": [
       "  Observation station  Year  Month  Day Time [Local time]  \\\n",
       "0    Helsinki Kumpula  2024      6    1             00:00   \n",
       "1    Helsinki Kumpula  2024      6    1             01:00   \n",
       "2    Helsinki Kumpula  2024      6    1             02:00   \n",
       "3    Helsinki Kumpula  2024      6    1             03:00   \n",
       "4    Helsinki Kumpula  2024      6    1             04:00   \n",
       "\n",
       "   Air temperature mean [°C]  \n",
       "0                       19.3  \n",
       "1                       18.9  \n",
       "2                       19.7  \n",
       "3                       19.4  \n",
       "4                       18.5  "
      ]
     },
     "execution_count": 6,
     "metadata": {},
     "output_type": "execute_result"
    }
   ],
   "source": [
    "# Read in only selected columns\n",
    "data = pd.read_csv(\n",
    "    fp,\n",
    "    usecols=['Observation station', 'Year', 'Month', 'Day','Time [Local time]', 'Air temperature mean [°C]'])\n",
    "\n",
    "# Check the dataframe\n",
    "data.head()"
   ]
  },
  {
   "cell_type": "markdown",
   "metadata": {
    "editable": true,
    "slideshow": {
     "slide_type": ""
    },
    "tags": []
   },
   "source": [
    "## Renaming columns\n",
    "\n",
    "As we saw above, some of the column names are a bit too long. Luckily, it is easy to alter labels in a pandas DataFrame using the [.rename()](https://pandas.pydata.org/pandas-docs/stable/reference/api/pandas.DataFrame.rename.html) function. In order to change the column names, we need to tell pandas how we want to rename the columns using a dictionary that lists old and new column names\n",
    "\n",
    "Let's first check again the current column names in our DataFrame."
   ]
  },
  {
   "cell_type": "code",
   "execution_count": 7,
   "metadata": {},
   "outputs": [
    {
     "data": {
      "text/plain": [
       "Index(['Observation station', 'Year', 'Month', 'Day', 'Time [Local time]',\n",
       "       'Air temperature mean [°C]'],\n",
       "      dtype='object')"
      ]
     },
     "execution_count": 7,
     "metadata": {},
     "output_type": "execute_result"
    }
   ],
   "source": [
    "data.columns"
   ]
  },
  {
   "cell_type": "markdown",
   "metadata": {
    "editable": true,
    "slideshow": {
     "slide_type": ""
    },
    "tags": []
   },
   "source": [
    "We can define the new column names using a [dictionary](https://docs.python.org/3/tutorial/datastructures.html#dictionaries) where we list `key: value` pairs, in which the original column name (the one which will be replaced) is the key and the new column name is the value.\n",
    "\n",
    "```{admonition} Dictionaries\n",
    "A [dictionary](https://docs.python.org/3/tutorial/datastructures.html#dictionaries) is a specific type of data structure in Python for storing key-value pairs. In this course, we will use dictionaries mainly when renaming columns in a pandas DataFrame, but dictionaries are useful for many different purposes! For more information about Python dictionaries, check out [this tutorial](https://realpython.com/python-dicts/).\n",
    "```\n",
    "\n",
    "Let's change the following:\n",
    "\n",
    "- `Observation station` to `STATION`\n",
    "- `Time [Local time]` to `TIME`\n",
    "- `Air temperature mean [°C]` to `TEMP`"
   ]
  },
  {
   "cell_type": "code",
   "execution_count": 8,
   "metadata": {
    "collapsed": false,
    "editable": true,
    "slideshow": {
     "slide_type": ""
    },
    "tags": []
   },
   "outputs": [
    {
     "data": {
      "text/plain": [
       "{'Observation station': 'STATION',\n",
       " 'Time [Local time]': 'TIME',\n",
       " 'Air temperature mean [°C]': 'TEMP'}"
      ]
     },
     "execution_count": 8,
     "metadata": {},
     "output_type": "execute_result"
    }
   ],
   "source": [
    "# Create the dictionary with old and new names\n",
    "new_names = {\"Observation station\": \"STATION\", \"Time [Local time]\": \"TIME\", \"Air temperature mean [°C]\": \"TEMP\"}\n",
    "\n",
    "# Let's see what the variable new_names look like\n",
    "new_names"
   ]
  },
  {
   "cell_type": "code",
   "execution_count": 9,
   "metadata": {
    "editable": true,
    "slideshow": {
     "slide_type": ""
    },
    "tags": []
   },
   "outputs": [
    {
     "data": {
      "text/plain": [
       "dict"
      ]
     },
     "execution_count": 9,
     "metadata": {},
     "output_type": "execute_result"
    }
   ],
   "source": [
    "# Check the data type of the new_names variable\n",
    "type(new_names)"
   ]
  },
  {
   "cell_type": "markdown",
   "metadata": {
    "editable": true,
    "slideshow": {
     "slide_type": ""
    },
    "tags": []
   },
   "source": [
    "From above we can see that we have successfully created a new dictionary. \n",
    "\n",
    "Now we can change the column names by passing that dictionary using the parameter `columns` in the `.rename()` function:"
   ]
  },
  {
   "cell_type": "code",
   "execution_count": 10,
   "metadata": {
    "collapsed": false,
    "editable": true,
    "slideshow": {
     "slide_type": ""
    },
    "tags": []
   },
   "outputs": [
    {
     "name": "stdout",
     "output_type": "stream",
     "text": [
      "Index(['STATION', 'Year', 'Month', 'Day', 'TIME', 'TEMP'], dtype='object')\n"
     ]
    }
   ],
   "source": [
    "# Rename the columns\n",
    "data = data.rename(columns=new_names)\n",
    "\n",
    "# Print the new columns\n",
    "print(data.columns)"
   ]
  },
  {
   "cell_type": "markdown",
   "metadata": {
    "editable": true,
    "slideshow": {
     "slide_type": ""
    },
    "tags": []
   },
   "source": [
    "Perfect, now our column names are more concise. "
   ]
  },
  {
   "cell_type": "markdown",
   "metadata": {
    "editable": true,
    "slideshow": {
     "slide_type": ""
    },
    "tags": []
   },
   "source": [
    "### Check your understanding\n",
    "\n",
    "The temperature values in our data files are in degrees Celcius. As you might guess, we will soon convert these temperatures in to degrees Fahrenheit. In order to avoid confusion with the columns, let's rename the column `TEMP` to `TEMP_C`."
   ]
  },
  {
   "cell_type": "code",
   "execution_count": 11,
   "metadata": {
    "editable": true,
    "slideshow": {
     "slide_type": ""
    },
    "tags": [
     "hide-cell"
    ]
   },
   "outputs": [
    {
     "data": {
      "text/html": [
       "<div>\n",
       "<style scoped>\n",
       "    .dataframe tbody tr th:only-of-type {\n",
       "        vertical-align: middle;\n",
       "    }\n",
       "\n",
       "    .dataframe tbody tr th {\n",
       "        vertical-align: top;\n",
       "    }\n",
       "\n",
       "    .dataframe thead th {\n",
       "        text-align: right;\n",
       "    }\n",
       "</style>\n",
       "<table border=\"1\" class=\"dataframe\">\n",
       "  <thead>\n",
       "    <tr style=\"text-align: right;\">\n",
       "      <th></th>\n",
       "      <th>STATION</th>\n",
       "      <th>Year</th>\n",
       "      <th>Month</th>\n",
       "      <th>Day</th>\n",
       "      <th>TIME</th>\n",
       "      <th>TEMP_C</th>\n",
       "    </tr>\n",
       "  </thead>\n",
       "  <tbody>\n",
       "    <tr>\n",
       "      <th>0</th>\n",
       "      <td>Helsinki Kumpula</td>\n",
       "      <td>2024</td>\n",
       "      <td>6</td>\n",
       "      <td>1</td>\n",
       "      <td>00:00</td>\n",
       "      <td>19.3</td>\n",
       "    </tr>\n",
       "    <tr>\n",
       "      <th>1</th>\n",
       "      <td>Helsinki Kumpula</td>\n",
       "      <td>2024</td>\n",
       "      <td>6</td>\n",
       "      <td>1</td>\n",
       "      <td>01:00</td>\n",
       "      <td>18.9</td>\n",
       "    </tr>\n",
       "    <tr>\n",
       "      <th>2</th>\n",
       "      <td>Helsinki Kumpula</td>\n",
       "      <td>2024</td>\n",
       "      <td>6</td>\n",
       "      <td>1</td>\n",
       "      <td>02:00</td>\n",
       "      <td>19.7</td>\n",
       "    </tr>\n",
       "    <tr>\n",
       "      <th>3</th>\n",
       "      <td>Helsinki Kumpula</td>\n",
       "      <td>2024</td>\n",
       "      <td>6</td>\n",
       "      <td>1</td>\n",
       "      <td>03:00</td>\n",
       "      <td>19.4</td>\n",
       "    </tr>\n",
       "    <tr>\n",
       "      <th>4</th>\n",
       "      <td>Helsinki Kumpula</td>\n",
       "      <td>2024</td>\n",
       "      <td>6</td>\n",
       "      <td>1</td>\n",
       "      <td>04:00</td>\n",
       "      <td>18.5</td>\n",
       "    </tr>\n",
       "  </tbody>\n",
       "</table>\n",
       "</div>"
      ],
      "text/plain": [
       "            STATION  Year  Month  Day   TIME  TEMP_C\n",
       "0  Helsinki Kumpula  2024      6    1  00:00    19.3\n",
       "1  Helsinki Kumpula  2024      6    1  01:00    18.9\n",
       "2  Helsinki Kumpula  2024      6    1  02:00    19.7\n",
       "3  Helsinki Kumpula  2024      6    1  03:00    19.4\n",
       "4  Helsinki Kumpula  2024      6    1  04:00    18.5"
      ]
     },
     "execution_count": 11,
     "metadata": {},
     "output_type": "execute_result"
    }
   ],
   "source": [
    "# Solution\n",
    "# Create the dictionary with old and new names\n",
    "new_names = {\"TEMP\": \"TEMP_C\"}\n",
    "\n",
    "# Rename the columns\n",
    "data = data.rename(columns=new_names)\n",
    "\n",
    "# Check the output\n",
    "data.head()"
   ]
  },
  {
   "cell_type": "markdown",
   "metadata": {
    "editable": true,
    "slideshow": {
     "slide_type": ""
    },
    "tags": []
   },
   "source": [
    "## Data properties\n",
    "\n",
    "As we learned last week, it's always a good idea to check basic properties of the input data before proceeding with the data analysis. Let's check the:\n",
    "\n",
    "- Number of rows and columns"
   ]
  },
  {
   "cell_type": "code",
   "execution_count": 12,
   "metadata": {
    "editable": true,
    "slideshow": {
     "slide_type": ""
    },
    "tags": []
   },
   "outputs": [
    {
     "data": {
      "text/plain": [
       "(2208, 6)"
      ]
     },
     "execution_count": 12,
     "metadata": {},
     "output_type": "execute_result"
    }
   ],
   "source": [
    "data.shape"
   ]
  },
  {
   "cell_type": "markdown",
   "metadata": {
    "editable": true,
    "slideshow": {
     "slide_type": ""
    },
    "tags": []
   },
   "source": [
    "- Top and bottom rows"
   ]
  },
  {
   "cell_type": "code",
   "execution_count": 13,
   "metadata": {
    "editable": true,
    "slideshow": {
     "slide_type": ""
    },
    "tags": []
   },
   "outputs": [
    {
     "data": {
      "text/html": [
       "<div>\n",
       "<style scoped>\n",
       "    .dataframe tbody tr th:only-of-type {\n",
       "        vertical-align: middle;\n",
       "    }\n",
       "\n",
       "    .dataframe tbody tr th {\n",
       "        vertical-align: top;\n",
       "    }\n",
       "\n",
       "    .dataframe thead th {\n",
       "        text-align: right;\n",
       "    }\n",
       "</style>\n",
       "<table border=\"1\" class=\"dataframe\">\n",
       "  <thead>\n",
       "    <tr style=\"text-align: right;\">\n",
       "      <th></th>\n",
       "      <th>STATION</th>\n",
       "      <th>Year</th>\n",
       "      <th>Month</th>\n",
       "      <th>Day</th>\n",
       "      <th>TIME</th>\n",
       "      <th>TEMP_C</th>\n",
       "    </tr>\n",
       "  </thead>\n",
       "  <tbody>\n",
       "    <tr>\n",
       "      <th>0</th>\n",
       "      <td>Helsinki Kumpula</td>\n",
       "      <td>2024</td>\n",
       "      <td>6</td>\n",
       "      <td>1</td>\n",
       "      <td>00:00</td>\n",
       "      <td>19.3</td>\n",
       "    </tr>\n",
       "    <tr>\n",
       "      <th>1</th>\n",
       "      <td>Helsinki Kumpula</td>\n",
       "      <td>2024</td>\n",
       "      <td>6</td>\n",
       "      <td>1</td>\n",
       "      <td>01:00</td>\n",
       "      <td>18.9</td>\n",
       "    </tr>\n",
       "    <tr>\n",
       "      <th>2</th>\n",
       "      <td>Helsinki Kumpula</td>\n",
       "      <td>2024</td>\n",
       "      <td>6</td>\n",
       "      <td>1</td>\n",
       "      <td>02:00</td>\n",
       "      <td>19.7</td>\n",
       "    </tr>\n",
       "    <tr>\n",
       "      <th>3</th>\n",
       "      <td>Helsinki Kumpula</td>\n",
       "      <td>2024</td>\n",
       "      <td>6</td>\n",
       "      <td>1</td>\n",
       "      <td>03:00</td>\n",
       "      <td>19.4</td>\n",
       "    </tr>\n",
       "    <tr>\n",
       "      <th>4</th>\n",
       "      <td>Helsinki Kumpula</td>\n",
       "      <td>2024</td>\n",
       "      <td>6</td>\n",
       "      <td>1</td>\n",
       "      <td>04:00</td>\n",
       "      <td>18.5</td>\n",
       "    </tr>\n",
       "  </tbody>\n",
       "</table>\n",
       "</div>"
      ],
      "text/plain": [
       "            STATION  Year  Month  Day   TIME  TEMP_C\n",
       "0  Helsinki Kumpula  2024      6    1  00:00    19.3\n",
       "1  Helsinki Kumpula  2024      6    1  01:00    18.9\n",
       "2  Helsinki Kumpula  2024      6    1  02:00    19.7\n",
       "3  Helsinki Kumpula  2024      6    1  03:00    19.4\n",
       "4  Helsinki Kumpula  2024      6    1  04:00    18.5"
      ]
     },
     "execution_count": 13,
     "metadata": {},
     "output_type": "execute_result"
    }
   ],
   "source": [
    "data.head()"
   ]
  },
  {
   "cell_type": "code",
   "execution_count": 14,
   "metadata": {
    "editable": true,
    "slideshow": {
     "slide_type": ""
    },
    "tags": []
   },
   "outputs": [
    {
     "data": {
      "text/html": [
       "<div>\n",
       "<style scoped>\n",
       "    .dataframe tbody tr th:only-of-type {\n",
       "        vertical-align: middle;\n",
       "    }\n",
       "\n",
       "    .dataframe tbody tr th {\n",
       "        vertical-align: top;\n",
       "    }\n",
       "\n",
       "    .dataframe thead th {\n",
       "        text-align: right;\n",
       "    }\n",
       "</style>\n",
       "<table border=\"1\" class=\"dataframe\">\n",
       "  <thead>\n",
       "    <tr style=\"text-align: right;\">\n",
       "      <th></th>\n",
       "      <th>STATION</th>\n",
       "      <th>Year</th>\n",
       "      <th>Month</th>\n",
       "      <th>Day</th>\n",
       "      <th>TIME</th>\n",
       "      <th>TEMP_C</th>\n",
       "    </tr>\n",
       "  </thead>\n",
       "  <tbody>\n",
       "    <tr>\n",
       "      <th>2203</th>\n",
       "      <td>Helsinki Kumpula</td>\n",
       "      <td>2024</td>\n",
       "      <td>8</td>\n",
       "      <td>31</td>\n",
       "      <td>19:00</td>\n",
       "      <td>16.9</td>\n",
       "    </tr>\n",
       "    <tr>\n",
       "      <th>2204</th>\n",
       "      <td>Helsinki Kumpula</td>\n",
       "      <td>2024</td>\n",
       "      <td>8</td>\n",
       "      <td>31</td>\n",
       "      <td>20:00</td>\n",
       "      <td>15.6</td>\n",
       "    </tr>\n",
       "    <tr>\n",
       "      <th>2205</th>\n",
       "      <td>Helsinki Kumpula</td>\n",
       "      <td>2024</td>\n",
       "      <td>8</td>\n",
       "      <td>31</td>\n",
       "      <td>21:00</td>\n",
       "      <td>15.0</td>\n",
       "    </tr>\n",
       "    <tr>\n",
       "      <th>2206</th>\n",
       "      <td>Helsinki Kumpula</td>\n",
       "      <td>2024</td>\n",
       "      <td>8</td>\n",
       "      <td>31</td>\n",
       "      <td>22:00</td>\n",
       "      <td>14.4</td>\n",
       "    </tr>\n",
       "    <tr>\n",
       "      <th>2207</th>\n",
       "      <td>Helsinki Kumpula</td>\n",
       "      <td>2024</td>\n",
       "      <td>8</td>\n",
       "      <td>31</td>\n",
       "      <td>23:00</td>\n",
       "      <td>13.7</td>\n",
       "    </tr>\n",
       "  </tbody>\n",
       "</table>\n",
       "</div>"
      ],
      "text/plain": [
       "               STATION  Year  Month  Day   TIME  TEMP_C\n",
       "2203  Helsinki Kumpula  2024      8   31  19:00    16.9\n",
       "2204  Helsinki Kumpula  2024      8   31  20:00    15.6\n",
       "2205  Helsinki Kumpula  2024      8   31  21:00    15.0\n",
       "2206  Helsinki Kumpula  2024      8   31  22:00    14.4\n",
       "2207  Helsinki Kumpula  2024      8   31  23:00    13.7"
      ]
     },
     "execution_count": 14,
     "metadata": {},
     "output_type": "execute_result"
    }
   ],
   "source": [
    "data.tail()"
   ]
  },
  {
   "cell_type": "markdown",
   "metadata": {
    "editable": true,
    "slideshow": {
     "slide_type": ""
    },
    "tags": []
   },
   "source": [
    "- Data types of the columns"
   ]
  },
  {
   "cell_type": "code",
   "execution_count": 15,
   "metadata": {},
   "outputs": [
    {
     "data": {
      "text/plain": [
       "STATION     object\n",
       "Year         int64\n",
       "Month        int64\n",
       "Day          int64\n",
       "TIME        object\n",
       "TEMP_C     float64\n",
       "dtype: object"
      ]
     },
     "execution_count": 15,
     "metadata": {},
     "output_type": "execute_result"
    }
   ],
   "source": [
    "data.dtypes"
   ]
  },
  {
   "cell_type": "markdown",
   "metadata": {},
   "source": [
    "- Descriptive statistics"
   ]
  },
  {
   "cell_type": "code",
   "execution_count": 16,
   "metadata": {
    "collapsed": false,
    "editable": true,
    "slideshow": {
     "slide_type": ""
    },
    "tags": []
   },
   "outputs": [
    {
     "data": {
      "text/html": [
       "<div>\n",
       "<style scoped>\n",
       "    .dataframe tbody tr th:only-of-type {\n",
       "        vertical-align: middle;\n",
       "    }\n",
       "\n",
       "    .dataframe tbody tr th {\n",
       "        vertical-align: top;\n",
       "    }\n",
       "\n",
       "    .dataframe thead th {\n",
       "        text-align: right;\n",
       "    }\n",
       "</style>\n",
       "<table border=\"1\" class=\"dataframe\">\n",
       "  <thead>\n",
       "    <tr style=\"text-align: right;\">\n",
       "      <th></th>\n",
       "      <th>Year</th>\n",
       "      <th>Month</th>\n",
       "      <th>Day</th>\n",
       "      <th>TEMP_C</th>\n",
       "    </tr>\n",
       "  </thead>\n",
       "  <tbody>\n",
       "    <tr>\n",
       "      <th>count</th>\n",
       "      <td>2208.0</td>\n",
       "      <td>2208.000000</td>\n",
       "      <td>2208.000000</td>\n",
       "      <td>2208.000000</td>\n",
       "    </tr>\n",
       "    <tr>\n",
       "      <th>mean</th>\n",
       "      <td>2024.0</td>\n",
       "      <td>7.010870</td>\n",
       "      <td>15.836957</td>\n",
       "      <td>18.428895</td>\n",
       "    </tr>\n",
       "    <tr>\n",
       "      <th>std</th>\n",
       "      <td>0.0</td>\n",
       "      <td>0.814387</td>\n",
       "      <td>8.856232</td>\n",
       "      <td>3.455590</td>\n",
       "    </tr>\n",
       "    <tr>\n",
       "      <th>min</th>\n",
       "      <td>2024.0</td>\n",
       "      <td>6.000000</td>\n",
       "      <td>1.000000</td>\n",
       "      <td>8.300000</td>\n",
       "    </tr>\n",
       "    <tr>\n",
       "      <th>25%</th>\n",
       "      <td>2024.0</td>\n",
       "      <td>6.000000</td>\n",
       "      <td>8.000000</td>\n",
       "      <td>16.000000</td>\n",
       "    </tr>\n",
       "    <tr>\n",
       "      <th>50%</th>\n",
       "      <td>2024.0</td>\n",
       "      <td>7.000000</td>\n",
       "      <td>16.000000</td>\n",
       "      <td>18.400000</td>\n",
       "    </tr>\n",
       "    <tr>\n",
       "      <th>75%</th>\n",
       "      <td>2024.0</td>\n",
       "      <td>8.000000</td>\n",
       "      <td>23.250000</td>\n",
       "      <td>20.900000</td>\n",
       "    </tr>\n",
       "    <tr>\n",
       "      <th>max</th>\n",
       "      <td>2024.0</td>\n",
       "      <td>8.000000</td>\n",
       "      <td>31.000000</td>\n",
       "      <td>27.300000</td>\n",
       "    </tr>\n",
       "  </tbody>\n",
       "</table>\n",
       "</div>"
      ],
      "text/plain": [
       "         Year        Month          Day       TEMP_C\n",
       "count  2208.0  2208.000000  2208.000000  2208.000000\n",
       "mean   2024.0     7.010870    15.836957    18.428895\n",
       "std       0.0     0.814387     8.856232     3.455590\n",
       "min    2024.0     6.000000     1.000000     8.300000\n",
       "25%    2024.0     6.000000     8.000000    16.000000\n",
       "50%    2024.0     7.000000    16.000000    18.400000\n",
       "75%    2024.0     8.000000    23.250000    20.900000\n",
       "max    2024.0     8.000000    31.000000    27.300000"
      ]
     },
     "execution_count": 16,
     "metadata": {},
     "output_type": "execute_result"
    }
   ],
   "source": [
    "data.describe()"
   ]
  },
  {
   "cell_type": "markdown",
   "metadata": {
    "editable": true,
    "slideshow": {
     "slide_type": ""
    },
    "tags": []
   },
   "source": [
    "## Using your own functions in pandas \n",
    "\n",
    "Now it's again time to convert temperatures! Yes, we have already done this many times before, but this time we will learn how to apply our own functions to data in a pandas DataFrame.\n",
    "\n",
    "First, we will define a function for the temperature conversion, and then we will apply this function for each Celsius value on each row of the DataFrame. The output celsius values will be stored in a new column called `TEMP_F`.\n",
    "\n",
    "To begin we will see how we can apply the function row-by-row using a `for` loop and then we will learn how to apply the function to all rows more efficiently all at once.\n",
    "\n",
    "### Defining the function\n",
    "\n",
    "For both of these approaches, we first need to define our function to convert temperature from Celsius to Fahrenheit."
   ]
  },
  {
   "cell_type": "code",
   "execution_count": 17,
   "metadata": {
    "editable": true,
    "slideshow": {
     "slide_type": ""
    },
    "tags": []
   },
   "outputs": [],
   "source": [
    "def celsius_to_fahr(temp_celsius):\n",
    "    \"\"\"Converts temperatures from Celsius to Fahrenheit.\n",
    "\n",
    "    Parameters\n",
    "    ----------\n",
    "\n",
    "    temp_celsius: int | float\n",
    "        Input temperature in Celsius (should be a number)\n",
    "\n",
    "    Returns\n",
    "    -------\n",
    "\n",
    "    Temperature in Fahrenheit (float)\n",
    "    \"\"\"\n",
    "\n",
    "    # Convert the Celsius into Fahrenheit\n",
    "    converted_temp = (temp_celsius * 1.8) + 32\n",
    "\n",
    "    return converted_temp"
   ]
  },
  {
   "cell_type": "markdown",
   "metadata": {},
   "source": [
    "To make sure everything is working properly, let's test the function with a known value."
   ]
  },
  {
   "cell_type": "code",
   "execution_count": 18,
   "metadata": {
    "editable": true,
    "slideshow": {
     "slide_type": ""
    },
    "tags": []
   },
   "outputs": [
    {
     "data": {
      "text/plain": [
       "32.0"
      ]
     },
     "execution_count": 18,
     "metadata": {},
     "output_type": "execute_result"
    }
   ],
   "source": [
    "celsius_to_fahr(0)"
   ]
  },
  {
   "cell_type": "markdown",
   "metadata": {
    "editable": true,
    "slideshow": {
     "slide_type": ""
    },
    "tags": []
   },
   "source": [
    "Let's also print out the first rows of our data frame to see our input data before further processing."
   ]
  },
  {
   "cell_type": "code",
   "execution_count": 19,
   "metadata": {},
   "outputs": [
    {
     "data": {
      "text/html": [
       "<div>\n",
       "<style scoped>\n",
       "    .dataframe tbody tr th:only-of-type {\n",
       "        vertical-align: middle;\n",
       "    }\n",
       "\n",
       "    .dataframe tbody tr th {\n",
       "        vertical-align: top;\n",
       "    }\n",
       "\n",
       "    .dataframe thead th {\n",
       "        text-align: right;\n",
       "    }\n",
       "</style>\n",
       "<table border=\"1\" class=\"dataframe\">\n",
       "  <thead>\n",
       "    <tr style=\"text-align: right;\">\n",
       "      <th></th>\n",
       "      <th>STATION</th>\n",
       "      <th>Year</th>\n",
       "      <th>Month</th>\n",
       "      <th>Day</th>\n",
       "      <th>TIME</th>\n",
       "      <th>TEMP_C</th>\n",
       "    </tr>\n",
       "  </thead>\n",
       "  <tbody>\n",
       "    <tr>\n",
       "      <th>0</th>\n",
       "      <td>Helsinki Kumpula</td>\n",
       "      <td>2024</td>\n",
       "      <td>6</td>\n",
       "      <td>1</td>\n",
       "      <td>00:00</td>\n",
       "      <td>19.3</td>\n",
       "    </tr>\n",
       "    <tr>\n",
       "      <th>1</th>\n",
       "      <td>Helsinki Kumpula</td>\n",
       "      <td>2024</td>\n",
       "      <td>6</td>\n",
       "      <td>1</td>\n",
       "      <td>01:00</td>\n",
       "      <td>18.9</td>\n",
       "    </tr>\n",
       "    <tr>\n",
       "      <th>2</th>\n",
       "      <td>Helsinki Kumpula</td>\n",
       "      <td>2024</td>\n",
       "      <td>6</td>\n",
       "      <td>1</td>\n",
       "      <td>02:00</td>\n",
       "      <td>19.7</td>\n",
       "    </tr>\n",
       "    <tr>\n",
       "      <th>3</th>\n",
       "      <td>Helsinki Kumpula</td>\n",
       "      <td>2024</td>\n",
       "      <td>6</td>\n",
       "      <td>1</td>\n",
       "      <td>03:00</td>\n",
       "      <td>19.4</td>\n",
       "    </tr>\n",
       "    <tr>\n",
       "      <th>4</th>\n",
       "      <td>Helsinki Kumpula</td>\n",
       "      <td>2024</td>\n",
       "      <td>6</td>\n",
       "      <td>1</td>\n",
       "      <td>04:00</td>\n",
       "      <td>18.5</td>\n",
       "    </tr>\n",
       "  </tbody>\n",
       "</table>\n",
       "</div>"
      ],
      "text/plain": [
       "            STATION  Year  Month  Day   TIME  TEMP_C\n",
       "0  Helsinki Kumpula  2024      6    1  00:00    19.3\n",
       "1  Helsinki Kumpula  2024      6    1  01:00    18.9\n",
       "2  Helsinki Kumpula  2024      6    1  02:00    19.7\n",
       "3  Helsinki Kumpula  2024      6    1  03:00    19.4\n",
       "4  Helsinki Kumpula  2024      6    1  04:00    18.5"
      ]
     },
     "execution_count": 19,
     "metadata": {},
     "output_type": "execute_result"
    }
   ],
   "source": [
    "data.head()"
   ]
  },
  {
   "cell_type": "markdown",
   "metadata": {},
   "source": [
    "### Iterating over rows\n",
    "\n",
    "We can use the function one row at a time using a `for` loop and the [.iterrows()](https://pandas.pydata.org/pandas-docs/stable/reference/api/pandas.DataFrame.iterrows.html) method. This will allow us to repeat a given process *for each row in a pandas DataFrame*. Please note that iterating over rows is a rather inefficient approach, but it is still useful to understand the logic behind the iteration.\n",
    "\n",
    "When using the `.iterrows()` method it is important to understand that `.iterrows()` accesses not only the values of one row, but also the `index` of the row as well. \n",
    "\n",
    "Let's start with a simple for loop that goes through each row in our DataFrame.\n",
    "\n",
    "```{note}\n",
    "We use single quotes to select the column `TEMP_C` of the row in the example below. This is because using double quotes would result in a `SyntaxError` since Python would interpret this as the end of the string for the `print()` function.\n",
    "```"
   ]
  },
  {
   "cell_type": "code",
   "execution_count": 20,
   "metadata": {
    "collapsed": false
   },
   "outputs": [
    {
     "name": "stdout",
     "output_type": "stream",
     "text": [
      "Index: 0\n",
      "Temp C: 19.3\n"
     ]
    }
   ],
   "source": [
    "# Iterate over the rows\n",
    "for idx, row in data.iterrows():\n",
    "\n",
    "    # Print the index value\n",
    "    print(f\"Index: {idx}\")\n",
    "\n",
    "    # Print the row\n",
    "    print(f\"Temp C: {row['TEMP_C']}\\n\")\n",
    "\n",
    "    break"
   ]
  },
  {
   "cell_type": "markdown",
   "metadata": {},
   "source": [
    "```{admonition} Breaking a loop\n",
    "When developing code in a `for` loop, you do not always need to go through the entire loop in order to test things out. \n",
    "The [break](https://docs.python.org/3/reference/simple_stmts.html#break) statement in Python terminates the current loop whereever it is placed and we can use it here just to check out the values on the first row (based on the first iteration in the `for` loop.\n",
    "This can be helpful when working with a large data file or dataset, because you might not want to print thousands of values to the screen!\n",
    "For more information, check out [this tutorial](https://www.tutorialspoint.com/python/python_break_statement.htm).\n",
    "```"
   ]
  },
  {
   "cell_type": "markdown",
   "metadata": {},
   "source": [
    "We can see that the `idx` variable indeed contains the index value at position 0 (the first row) and the `row` variable contains all the data from that given row stored as a pandas `Series`.\n",
    "\n",
    "Let's now create an empty column `TEMP_F` for the Celsius temperatures and update the values in that column using the `celsius_to_fahr` function we defined earlier."
   ]
  },
  {
   "cell_type": "code",
   "execution_count": 21,
   "metadata": {
    "editable": true,
    "slideshow": {
     "slide_type": ""
    },
    "tags": []
   },
   "outputs": [],
   "source": [
    "# Create an empty float column for the output values\n",
    "data[\"TEMP_F\"] = 0.0\n",
    "\n",
    "# Iterate over the rows\n",
    "for idx, row in data.iterrows():\n",
    "\n",
    "    # Convert the Fahrenheit to Celsius\n",
    "    temp_fahr = celsius_to_fahr(row[\"TEMP_C\"])\n",
    "\n",
    "    # Update the value of 'Celsius' column with the converted value\n",
    "    data.at[idx, \"TEMP_F\"] = temp_fahr"
   ]
  },
  {
   "cell_type": "markdown",
   "metadata": {
    "editable": true,
    "slideshow": {
     "slide_type": ""
    },
    "tags": []
   },
   "source": [
    "```{admonition} Reminder: .at[] or .loc[]?\n",
    "Here, you could also use `data.loc[idx, new_column] = temp_fahr` to achieve the same result. \n",
    "    \n",
    "If you only need to access a single value in a DataFrame, [DataFrame.at[]](https://pandas.pydata.org/pandas-docs/stable/reference/api/pandas.DataFrame.at.html) is faster than [DataFrame.loc[]](https://pandas.pydata.org/pandas-docs/stable/reference/api/pandas.DataFrame.loc.html), which is designed for accessing groups of rows and columns. \n",
    "```"
   ]
  },
  {
   "cell_type": "markdown",
   "metadata": {},
   "source": [
    "Finally, let's see how our DataFrame looks after the calculations above."
   ]
  },
  {
   "cell_type": "code",
   "execution_count": 22,
   "metadata": {},
   "outputs": [
    {
     "data": {
      "text/html": [
       "<div>\n",
       "<style scoped>\n",
       "    .dataframe tbody tr th:only-of-type {\n",
       "        vertical-align: middle;\n",
       "    }\n",
       "\n",
       "    .dataframe tbody tr th {\n",
       "        vertical-align: top;\n",
       "    }\n",
       "\n",
       "    .dataframe thead th {\n",
       "        text-align: right;\n",
       "    }\n",
       "</style>\n",
       "<table border=\"1\" class=\"dataframe\">\n",
       "  <thead>\n",
       "    <tr style=\"text-align: right;\">\n",
       "      <th></th>\n",
       "      <th>STATION</th>\n",
       "      <th>Year</th>\n",
       "      <th>Month</th>\n",
       "      <th>Day</th>\n",
       "      <th>TIME</th>\n",
       "      <th>TEMP_C</th>\n",
       "      <th>TEMP_F</th>\n",
       "    </tr>\n",
       "  </thead>\n",
       "  <tbody>\n",
       "    <tr>\n",
       "      <th>0</th>\n",
       "      <td>Helsinki Kumpula</td>\n",
       "      <td>2024</td>\n",
       "      <td>6</td>\n",
       "      <td>1</td>\n",
       "      <td>00:00</td>\n",
       "      <td>19.3</td>\n",
       "      <td>66.74</td>\n",
       "    </tr>\n",
       "    <tr>\n",
       "      <th>1</th>\n",
       "      <td>Helsinki Kumpula</td>\n",
       "      <td>2024</td>\n",
       "      <td>6</td>\n",
       "      <td>1</td>\n",
       "      <td>01:00</td>\n",
       "      <td>18.9</td>\n",
       "      <td>66.02</td>\n",
       "    </tr>\n",
       "    <tr>\n",
       "      <th>2</th>\n",
       "      <td>Helsinki Kumpula</td>\n",
       "      <td>2024</td>\n",
       "      <td>6</td>\n",
       "      <td>1</td>\n",
       "      <td>02:00</td>\n",
       "      <td>19.7</td>\n",
       "      <td>67.46</td>\n",
       "    </tr>\n",
       "    <tr>\n",
       "      <th>3</th>\n",
       "      <td>Helsinki Kumpula</td>\n",
       "      <td>2024</td>\n",
       "      <td>6</td>\n",
       "      <td>1</td>\n",
       "      <td>03:00</td>\n",
       "      <td>19.4</td>\n",
       "      <td>66.92</td>\n",
       "    </tr>\n",
       "    <tr>\n",
       "      <th>4</th>\n",
       "      <td>Helsinki Kumpula</td>\n",
       "      <td>2024</td>\n",
       "      <td>6</td>\n",
       "      <td>1</td>\n",
       "      <td>04:00</td>\n",
       "      <td>18.5</td>\n",
       "      <td>65.30</td>\n",
       "    </tr>\n",
       "  </tbody>\n",
       "</table>\n",
       "</div>"
      ],
      "text/plain": [
       "            STATION  Year  Month  Day   TIME  TEMP_C  TEMP_F\n",
       "0  Helsinki Kumpula  2024      6    1  00:00    19.3   66.74\n",
       "1  Helsinki Kumpula  2024      6    1  01:00    18.9   66.02\n",
       "2  Helsinki Kumpula  2024      6    1  02:00    19.7   67.46\n",
       "3  Helsinki Kumpula  2024      6    1  03:00    19.4   66.92\n",
       "4  Helsinki Kumpula  2024      6    1  04:00    18.5   65.30"
      ]
     },
     "execution_count": 22,
     "metadata": {},
     "output_type": "execute_result"
    }
   ],
   "source": [
    "data.head()"
   ]
  },
  {
   "cell_type": "markdown",
   "metadata": {
    "editable": true,
    "slideshow": {
     "slide_type": ""
    },
    "tags": []
   },
   "source": [
    "### Applying the function\n",
    "\n",
    "Pandas DataFrames and Series have a dedicated method `.apply()` for applying functions on columns (or rows!). When using `.apply()`, we pass the function name (without parentheses!) as an argument to the `.apply()` method. Let's start by applying the function to the `TEMP_C` column, which contains the temperature values in degrees Celsius."
   ]
  },
  {
   "cell_type": "code",
   "execution_count": 23,
   "metadata": {
    "editable": true,
    "slideshow": {
     "slide_type": ""
    },
    "tags": []
   },
   "outputs": [
    {
     "data": {
      "text/plain": [
       "0       66.74\n",
       "1       66.02\n",
       "2       67.46\n",
       "3       66.92\n",
       "4       65.30\n",
       "        ...  \n",
       "2203    62.42\n",
       "2204    60.08\n",
       "2205    59.00\n",
       "2206    57.92\n",
       "2207    56.66\n",
       "Name: TEMP_C, Length: 2208, dtype: float64"
      ]
     },
     "execution_count": 23,
     "metadata": {},
     "output_type": "execute_result"
    }
   ],
   "source": [
    "data[\"TEMP_C\"].apply(celsius_to_fahr)"
   ]
  },
  {
   "cell_type": "markdown",
   "metadata": {},
   "source": [
    "The results look logical, so it seems safe to store them permanently in the `TEMP_F` column (overwriting the old values)."
   ]
  },
  {
   "cell_type": "code",
   "execution_count": 24,
   "metadata": {},
   "outputs": [],
   "source": [
    "data[\"TEMP_F\"] = data[\"TEMP_C\"].apply(celsius_to_fahr)"
   ]
  },
  {
   "cell_type": "markdown",
   "metadata": {},
   "source": [
    "````{note}\n",
    "\n",
    "We can also apply the conversion function to multiple columns simultaneously while reordering the DataFrame. For instance, if our dataset contained three temperature columns (`TEMP`, `MIN`, and `MAX`), we could perform the conversion and reorganize the columns in one step, as shown below.\n",
    "\n",
    "```\n",
    "data[[\"TEMP\", \"MIN\", \"MAX\"]].apply(celsius_to_fahr)\n",
    "```\n",
    "\n",
    "````"
   ]
  },
  {
   "cell_type": "markdown",
   "metadata": {},
   "source": [
    "You might also notice that our conversion function would also allow us to pass one column or the entire DataFrame as a parameter (e.g., `celsius_to_fahrs(data[\"TEMP_C\"])`). However, the code is perhaps easier to follow when using the `.apply()` method."
   ]
  },
  {
   "cell_type": "markdown",
   "metadata": {},
   "source": [
    "Let's now take a look at the DataFrame contents."
   ]
  },
  {
   "cell_type": "code",
   "execution_count": 25,
   "metadata": {
    "collapsed": false
   },
   "outputs": [
    {
     "data": {
      "text/html": [
       "<div>\n",
       "<style scoped>\n",
       "    .dataframe tbody tr th:only-of-type {\n",
       "        vertical-align: middle;\n",
       "    }\n",
       "\n",
       "    .dataframe tbody tr th {\n",
       "        vertical-align: top;\n",
       "    }\n",
       "\n",
       "    .dataframe thead th {\n",
       "        text-align: right;\n",
       "    }\n",
       "</style>\n",
       "<table border=\"1\" class=\"dataframe\">\n",
       "  <thead>\n",
       "    <tr style=\"text-align: right;\">\n",
       "      <th></th>\n",
       "      <th>STATION</th>\n",
       "      <th>Year</th>\n",
       "      <th>Month</th>\n",
       "      <th>Day</th>\n",
       "      <th>TIME</th>\n",
       "      <th>TEMP_C</th>\n",
       "      <th>TEMP_F</th>\n",
       "    </tr>\n",
       "  </thead>\n",
       "  <tbody>\n",
       "    <tr>\n",
       "      <th>0</th>\n",
       "      <td>Helsinki Kumpula</td>\n",
       "      <td>2024</td>\n",
       "      <td>6</td>\n",
       "      <td>1</td>\n",
       "      <td>00:00</td>\n",
       "      <td>19.3</td>\n",
       "      <td>66.74</td>\n",
       "    </tr>\n",
       "    <tr>\n",
       "      <th>1</th>\n",
       "      <td>Helsinki Kumpula</td>\n",
       "      <td>2024</td>\n",
       "      <td>6</td>\n",
       "      <td>1</td>\n",
       "      <td>01:00</td>\n",
       "      <td>18.9</td>\n",
       "      <td>66.02</td>\n",
       "    </tr>\n",
       "    <tr>\n",
       "      <th>2</th>\n",
       "      <td>Helsinki Kumpula</td>\n",
       "      <td>2024</td>\n",
       "      <td>6</td>\n",
       "      <td>1</td>\n",
       "      <td>02:00</td>\n",
       "      <td>19.7</td>\n",
       "      <td>67.46</td>\n",
       "    </tr>\n",
       "    <tr>\n",
       "      <th>3</th>\n",
       "      <td>Helsinki Kumpula</td>\n",
       "      <td>2024</td>\n",
       "      <td>6</td>\n",
       "      <td>1</td>\n",
       "      <td>03:00</td>\n",
       "      <td>19.4</td>\n",
       "      <td>66.92</td>\n",
       "    </tr>\n",
       "    <tr>\n",
       "      <th>4</th>\n",
       "      <td>Helsinki Kumpula</td>\n",
       "      <td>2024</td>\n",
       "      <td>6</td>\n",
       "      <td>1</td>\n",
       "      <td>04:00</td>\n",
       "      <td>18.5</td>\n",
       "      <td>65.30</td>\n",
       "    </tr>\n",
       "    <tr>\n",
       "      <th>5</th>\n",
       "      <td>Helsinki Kumpula</td>\n",
       "      <td>2024</td>\n",
       "      <td>6</td>\n",
       "      <td>1</td>\n",
       "      <td>05:00</td>\n",
       "      <td>18.5</td>\n",
       "      <td>65.30</td>\n",
       "    </tr>\n",
       "    <tr>\n",
       "      <th>6</th>\n",
       "      <td>Helsinki Kumpula</td>\n",
       "      <td>2024</td>\n",
       "      <td>6</td>\n",
       "      <td>1</td>\n",
       "      <td>06:00</td>\n",
       "      <td>18.4</td>\n",
       "      <td>65.12</td>\n",
       "    </tr>\n",
       "    <tr>\n",
       "      <th>7</th>\n",
       "      <td>Helsinki Kumpula</td>\n",
       "      <td>2024</td>\n",
       "      <td>6</td>\n",
       "      <td>1</td>\n",
       "      <td>07:00</td>\n",
       "      <td>20.2</td>\n",
       "      <td>68.36</td>\n",
       "    </tr>\n",
       "    <tr>\n",
       "      <th>8</th>\n",
       "      <td>Helsinki Kumpula</td>\n",
       "      <td>2024</td>\n",
       "      <td>6</td>\n",
       "      <td>1</td>\n",
       "      <td>08:00</td>\n",
       "      <td>21.6</td>\n",
       "      <td>70.88</td>\n",
       "    </tr>\n",
       "    <tr>\n",
       "      <th>9</th>\n",
       "      <td>Helsinki Kumpula</td>\n",
       "      <td>2024</td>\n",
       "      <td>6</td>\n",
       "      <td>1</td>\n",
       "      <td>09:00</td>\n",
       "      <td>23.1</td>\n",
       "      <td>73.58</td>\n",
       "    </tr>\n",
       "  </tbody>\n",
       "</table>\n",
       "</div>"
      ],
      "text/plain": [
       "            STATION  Year  Month  Day   TIME  TEMP_C  TEMP_F\n",
       "0  Helsinki Kumpula  2024      6    1  00:00    19.3   66.74\n",
       "1  Helsinki Kumpula  2024      6    1  01:00    18.9   66.02\n",
       "2  Helsinki Kumpula  2024      6    1  02:00    19.7   67.46\n",
       "3  Helsinki Kumpula  2024      6    1  03:00    19.4   66.92\n",
       "4  Helsinki Kumpula  2024      6    1  04:00    18.5   65.30\n",
       "5  Helsinki Kumpula  2024      6    1  05:00    18.5   65.30\n",
       "6  Helsinki Kumpula  2024      6    1  06:00    18.4   65.12\n",
       "7  Helsinki Kumpula  2024      6    1  07:00    20.2   68.36\n",
       "8  Helsinki Kumpula  2024      6    1  08:00    21.6   70.88\n",
       "9  Helsinki Kumpula  2024      6    1  09:00    23.1   73.58"
      ]
     },
     "execution_count": 25,
     "metadata": {},
     "output_type": "execute_result"
    }
   ],
   "source": [
    "data.head(10)"
   ]
  },
  {
   "cell_type": "markdown",
   "metadata": {},
   "source": [
    "```{admonition} Should I use .iterrows() or .apply()?\n",
    "\n",
    "We are teaching the `.iterrows()` method because it helps you to understand the structure of a DataFrame and the process of looping through DataFrame rows. However, using `.apply()` is often far more efficient in terms of execution time. \n",
    "\n",
    "At this point, the most important thing is that you understand what happens when you are modifying the values in a pandas DataFrame. When doing the course exercises, either of these approaches is ok!\n",
    "```"
   ]
  },
  {
   "cell_type": "markdown",
   "metadata": {},
   "source": [
    "## Parsing dates\n",
    "\n",
    "As part of this lesson, we want to group our data by day and calculate the average daily temperatures. Currently, we have separate columns storing information on the year, month, and day. Since our data is from the summer of a single year (2024), we do not need to include the year in our grouping. However, we do need to use the information from the month and day for our analysis.\n",
    "\n",
    "Let's start by looking at the contents of these columns and their data type:"
   ]
  },
  {
   "cell_type": "code",
   "execution_count": 26,
   "metadata": {},
   "outputs": [
    {
     "data": {
      "text/plain": [
       "0    6\n",
       "1    6\n",
       "2    6\n",
       "3    6\n",
       "4    6\n",
       "5    6\n",
       "6    6\n",
       "7    6\n",
       "8    6\n",
       "9    6\n",
       "Name: Month, dtype: int64"
      ]
     },
     "execution_count": 26,
     "metadata": {},
     "output_type": "execute_result"
    }
   ],
   "source": [
    "data[\"Month\"].head(10)"
   ]
  },
  {
   "cell_type": "code",
   "execution_count": 27,
   "metadata": {
    "editable": true,
    "slideshow": {
     "slide_type": ""
    },
    "tags": []
   },
   "outputs": [
    {
     "data": {
      "text/plain": [
       "2198    31\n",
       "2199    31\n",
       "2200    31\n",
       "2201    31\n",
       "2202    31\n",
       "2203    31\n",
       "2204    31\n",
       "2205    31\n",
       "2206    31\n",
       "2207    31\n",
       "Name: Day, dtype: int64"
      ]
     },
     "execution_count": 27,
     "metadata": {},
     "output_type": "execute_result"
    }
   ],
   "source": [
    "data[\"Day\"].tail(10)"
   ]
  },
  {
   "cell_type": "markdown",
   "metadata": {
    "editable": true,
    "slideshow": {
     "slide_type": ""
    },
    "tags": []
   },
   "source": [
    "The Month and Day columns contain integers. And as evident by the column `TIME`, several observations are made per day (every hour). We can already see the data types above, but we can check them again using `dtypes` "
   ]
  },
  {
   "cell_type": "code",
   "execution_count": 28,
   "metadata": {
    "editable": true,
    "slideshow": {
     "slide_type": ""
    },
    "tags": []
   },
   "outputs": [
    {
     "data": {
      "text/plain": [
       "dtype('int64')"
      ]
     },
     "execution_count": 28,
     "metadata": {},
     "output_type": "execute_result"
    }
   ],
   "source": [
    "data[\"Month\"].dtypes"
   ]
  },
  {
   "cell_type": "markdown",
   "metadata": {},
   "source": [
    "The information in this column is stored as integer values.\n",
    "\n",
    "We now want to aggregate the data on a daily level, and in order to do so we need to \"label\" each row of data based on the month and day when the record was observed. In order to do this, we need to somehow aggregate the information for month and day for each row.\n",
    "\n",
    "We can create these \"labels\" by making a new column containing information about the month and day.\n",
    "\n",
    "Before taking that step, hwever, we should first convert the contents in the `Month` and `Day` columns to character strings in two new columns."
   ]
  },
  {
   "cell_type": "code",
   "execution_count": 29,
   "metadata": {
    "collapsed": false
   },
   "outputs": [],
   "source": [
    "# Convert to string\n",
    "data[\"MONTH_STR\"] = data[\"Month\"].astype(str)\n",
    "data[\"DAY_STR\"] = data[\"Day\"].astype(str)"
   ]
  },
  {
   "cell_type": "markdown",
   "metadata": {
    "editable": true,
    "slideshow": {
     "slide_type": ""
    },
    "tags": []
   },
   "source": [
    "Now that we have converted the Month and Day data into character strings, the next step is to combine the information from the `MONTH_STR` and `DAY_STR` columns into a new column called `MONTH_DAY`. We will use this format `MM-DD`.\n",
    "\n",
    "By applying the `.str.zfill(2)` method to the `DAY_STR` and `MONTH_STR` columns, we ensure that they always have two digits, even when the values are less than 10. This guarantees that the final format is always consistent."
   ]
  },
  {
   "cell_type": "code",
   "execution_count": 30,
   "metadata": {
    "editable": true,
    "slideshow": {
     "slide_type": ""
    },
    "tags": []
   },
   "outputs": [
    {
     "data": {
      "text/html": [
       "<div>\n",
       "<style scoped>\n",
       "    .dataframe tbody tr th:only-of-type {\n",
       "        vertical-align: middle;\n",
       "    }\n",
       "\n",
       "    .dataframe tbody tr th {\n",
       "        vertical-align: top;\n",
       "    }\n",
       "\n",
       "    .dataframe thead th {\n",
       "        text-align: right;\n",
       "    }\n",
       "</style>\n",
       "<table border=\"1\" class=\"dataframe\">\n",
       "  <thead>\n",
       "    <tr style=\"text-align: right;\">\n",
       "      <th></th>\n",
       "      <th>STATION</th>\n",
       "      <th>Year</th>\n",
       "      <th>Month</th>\n",
       "      <th>Day</th>\n",
       "      <th>TIME</th>\n",
       "      <th>TEMP_C</th>\n",
       "      <th>TEMP_F</th>\n",
       "      <th>MONTH_STR</th>\n",
       "      <th>DAY_STR</th>\n",
       "      <th>MONTH_DAY</th>\n",
       "    </tr>\n",
       "  </thead>\n",
       "  <tbody>\n",
       "    <tr>\n",
       "      <th>0</th>\n",
       "      <td>Helsinki Kumpula</td>\n",
       "      <td>2024</td>\n",
       "      <td>6</td>\n",
       "      <td>1</td>\n",
       "      <td>00:00</td>\n",
       "      <td>19.3</td>\n",
       "      <td>66.74</td>\n",
       "      <td>6</td>\n",
       "      <td>1</td>\n",
       "      <td>06-01</td>\n",
       "    </tr>\n",
       "    <tr>\n",
       "      <th>1</th>\n",
       "      <td>Helsinki Kumpula</td>\n",
       "      <td>2024</td>\n",
       "      <td>6</td>\n",
       "      <td>1</td>\n",
       "      <td>01:00</td>\n",
       "      <td>18.9</td>\n",
       "      <td>66.02</td>\n",
       "      <td>6</td>\n",
       "      <td>1</td>\n",
       "      <td>06-01</td>\n",
       "    </tr>\n",
       "    <tr>\n",
       "      <th>2</th>\n",
       "      <td>Helsinki Kumpula</td>\n",
       "      <td>2024</td>\n",
       "      <td>6</td>\n",
       "      <td>1</td>\n",
       "      <td>02:00</td>\n",
       "      <td>19.7</td>\n",
       "      <td>67.46</td>\n",
       "      <td>6</td>\n",
       "      <td>1</td>\n",
       "      <td>06-01</td>\n",
       "    </tr>\n",
       "    <tr>\n",
       "      <th>3</th>\n",
       "      <td>Helsinki Kumpula</td>\n",
       "      <td>2024</td>\n",
       "      <td>6</td>\n",
       "      <td>1</td>\n",
       "      <td>03:00</td>\n",
       "      <td>19.4</td>\n",
       "      <td>66.92</td>\n",
       "      <td>6</td>\n",
       "      <td>1</td>\n",
       "      <td>06-01</td>\n",
       "    </tr>\n",
       "    <tr>\n",
       "      <th>4</th>\n",
       "      <td>Helsinki Kumpula</td>\n",
       "      <td>2024</td>\n",
       "      <td>6</td>\n",
       "      <td>1</td>\n",
       "      <td>04:00</td>\n",
       "      <td>18.5</td>\n",
       "      <td>65.30</td>\n",
       "      <td>6</td>\n",
       "      <td>1</td>\n",
       "      <td>06-01</td>\n",
       "    </tr>\n",
       "  </tbody>\n",
       "</table>\n",
       "</div>"
      ],
      "text/plain": [
       "            STATION  Year  Month  Day   TIME  TEMP_C  TEMP_F MONTH_STR  \\\n",
       "0  Helsinki Kumpula  2024      6    1  00:00    19.3   66.74         6   \n",
       "1  Helsinki Kumpula  2024      6    1  01:00    18.9   66.02         6   \n",
       "2  Helsinki Kumpula  2024      6    1  02:00    19.7   67.46         6   \n",
       "3  Helsinki Kumpula  2024      6    1  03:00    19.4   66.92         6   \n",
       "4  Helsinki Kumpula  2024      6    1  04:00    18.5   65.30         6   \n",
       "\n",
       "  DAY_STR MONTH_DAY  \n",
       "0       1     06-01  \n",
       "1       1     06-01  \n",
       "2       1     06-01  \n",
       "3       1     06-01  \n",
       "4       1     06-01  "
      ]
     },
     "execution_count": 30,
     "metadata": {},
     "output_type": "execute_result"
    }
   ],
   "source": [
    "# Combine the two strings\n",
    "data[\"MONTH_DAY\"] = data[\"MONTH_STR\"].str.zfill(2) + \"-\" + data[\"DAY_STR\"].str.zfill(2)\n",
    "\n",
    "# Let's see what we have\n",
    "data.head()"
   ]
  },
  {
   "cell_type": "markdown",
   "metadata": {},
   "source": [
    "Nice! Now we have \"labeled\" the rows based on information about date, but only including the month and day in the labels."
   ]
  },
  {
   "cell_type": "markdown",
   "metadata": {},
   "source": [
    "````{admonition} String slicing\n",
    "\n",
    "Date and time data can come in various formats. In some cases, your data may contain a long integer or string representing the date and time. For example, \"201910012350\" could represent 23:50 on the 1st of October, 2019. In such cases, it is useful to first convert the values to a string (as they may initially be rendered as integers) and then use the [`pandas.Series.str.slice()`](https://pandas.pydata.org/pandas-docs/stable/reference/api/pandas.Series.str.slice.html) method. For example, from the string \"201910012350\", you can extract the year and month and write them to a new column `YEAR_MONTH` as follows:\n",
    "\n",
    "```\n",
    "data[\"YEAR_MONTH\"] = data[\"TIME_STR\"].str.slice(start=0, stop=6)\n",
    "```\n",
    "\n",
    "````"
   ]
  },
  {
   "cell_type": "markdown",
   "metadata": {},
   "source": [
    "### Datetime (*optional*)\n",
    "\n",
    "In pandas, we can convert date and time information into a specialized data type called [datetime](https://docs.python.org/3/library/datetime.html) using the [`pandas.to_datetime()`](https://pandas.pydata.org/pandas-docs/stable/reference/api/pandas.to_datetime.html) function. This allows for more efficient date and time manipulations.\n",
    "\n",
    "To start, we can create a `DATE_STR` column by concatenating the `Year`, `Month`, and `Day` columns into a single string in the format `YYYYMMDD`. We will again apply the `.str.zfill(2)` method to the `MONTH_STR` and `DAY_STR` columns to ensure the formatting is consistent for all dates."
   ]
  },
  {
   "cell_type": "code",
   "execution_count": 31,
   "metadata": {
    "editable": true,
    "slideshow": {
     "slide_type": ""
    },
    "tags": []
   },
   "outputs": [
    {
     "data": {
      "text/html": [
       "<div>\n",
       "<style scoped>\n",
       "    .dataframe tbody tr th:only-of-type {\n",
       "        vertical-align: middle;\n",
       "    }\n",
       "\n",
       "    .dataframe tbody tr th {\n",
       "        vertical-align: top;\n",
       "    }\n",
       "\n",
       "    .dataframe thead th {\n",
       "        text-align: right;\n",
       "    }\n",
       "</style>\n",
       "<table border=\"1\" class=\"dataframe\">\n",
       "  <thead>\n",
       "    <tr style=\"text-align: right;\">\n",
       "      <th></th>\n",
       "      <th>STATION</th>\n",
       "      <th>Year</th>\n",
       "      <th>Month</th>\n",
       "      <th>Day</th>\n",
       "      <th>TIME</th>\n",
       "      <th>TEMP_C</th>\n",
       "      <th>TEMP_F</th>\n",
       "      <th>MONTH_STR</th>\n",
       "      <th>DAY_STR</th>\n",
       "      <th>MONTH_DAY</th>\n",
       "      <th>YEAR_STR</th>\n",
       "      <th>DATE_STR</th>\n",
       "    </tr>\n",
       "  </thead>\n",
       "  <tbody>\n",
       "    <tr>\n",
       "      <th>0</th>\n",
       "      <td>Helsinki Kumpula</td>\n",
       "      <td>2024</td>\n",
       "      <td>6</td>\n",
       "      <td>1</td>\n",
       "      <td>00:00</td>\n",
       "      <td>19.3</td>\n",
       "      <td>66.74</td>\n",
       "      <td>6</td>\n",
       "      <td>1</td>\n",
       "      <td>06-01</td>\n",
       "      <td>2024</td>\n",
       "      <td>20240601</td>\n",
       "    </tr>\n",
       "    <tr>\n",
       "      <th>1</th>\n",
       "      <td>Helsinki Kumpula</td>\n",
       "      <td>2024</td>\n",
       "      <td>6</td>\n",
       "      <td>1</td>\n",
       "      <td>01:00</td>\n",
       "      <td>18.9</td>\n",
       "      <td>66.02</td>\n",
       "      <td>6</td>\n",
       "      <td>1</td>\n",
       "      <td>06-01</td>\n",
       "      <td>2024</td>\n",
       "      <td>20240601</td>\n",
       "    </tr>\n",
       "    <tr>\n",
       "      <th>2</th>\n",
       "      <td>Helsinki Kumpula</td>\n",
       "      <td>2024</td>\n",
       "      <td>6</td>\n",
       "      <td>1</td>\n",
       "      <td>02:00</td>\n",
       "      <td>19.7</td>\n",
       "      <td>67.46</td>\n",
       "      <td>6</td>\n",
       "      <td>1</td>\n",
       "      <td>06-01</td>\n",
       "      <td>2024</td>\n",
       "      <td>20240601</td>\n",
       "    </tr>\n",
       "    <tr>\n",
       "      <th>3</th>\n",
       "      <td>Helsinki Kumpula</td>\n",
       "      <td>2024</td>\n",
       "      <td>6</td>\n",
       "      <td>1</td>\n",
       "      <td>03:00</td>\n",
       "      <td>19.4</td>\n",
       "      <td>66.92</td>\n",
       "      <td>6</td>\n",
       "      <td>1</td>\n",
       "      <td>06-01</td>\n",
       "      <td>2024</td>\n",
       "      <td>20240601</td>\n",
       "    </tr>\n",
       "    <tr>\n",
       "      <th>4</th>\n",
       "      <td>Helsinki Kumpula</td>\n",
       "      <td>2024</td>\n",
       "      <td>6</td>\n",
       "      <td>1</td>\n",
       "      <td>04:00</td>\n",
       "      <td>18.5</td>\n",
       "      <td>65.30</td>\n",
       "      <td>6</td>\n",
       "      <td>1</td>\n",
       "      <td>06-01</td>\n",
       "      <td>2024</td>\n",
       "      <td>20240601</td>\n",
       "    </tr>\n",
       "  </tbody>\n",
       "</table>\n",
       "</div>"
      ],
      "text/plain": [
       "            STATION  Year  Month  Day   TIME  TEMP_C  TEMP_F MONTH_STR  \\\n",
       "0  Helsinki Kumpula  2024      6    1  00:00    19.3   66.74         6   \n",
       "1  Helsinki Kumpula  2024      6    1  01:00    18.9   66.02         6   \n",
       "2  Helsinki Kumpula  2024      6    1  02:00    19.7   67.46         6   \n",
       "3  Helsinki Kumpula  2024      6    1  03:00    19.4   66.92         6   \n",
       "4  Helsinki Kumpula  2024      6    1  04:00    18.5   65.30         6   \n",
       "\n",
       "  DAY_STR MONTH_DAY YEAR_STR  DATE_STR  \n",
       "0       1     06-01     2024  20240601  \n",
       "1       1     06-01     2024  20240601  \n",
       "2       1     06-01     2024  20240601  \n",
       "3       1     06-01     2024  20240601  \n",
       "4       1     06-01     2024  20240601  "
      ]
     },
     "execution_count": 31,
     "metadata": {},
     "output_type": "execute_result"
    }
   ],
   "source": [
    "data[\"YEAR_STR\"] = data[\"Year\"].astype(str)\n",
    "# Combine the three strings\n",
    "data[\"DATE_STR\"] = data[\"YEAR_STR\"] +  data[\"MONTH_STR\"].str.zfill(2) + data[\"DAY_STR\"].str.zfill(2)\n",
    "data.head()"
   ]
  },
  {
   "cell_type": "code",
   "execution_count": 32,
   "metadata": {
    "editable": true,
    "slideshow": {
     "slide_type": ""
    },
    "tags": []
   },
   "outputs": [],
   "source": [
    "# Convert character strings to datetime\n",
    "data[\"DATE\"] = pd.to_datetime(data[\"DATE_STR\"])"
   ]
  },
  {
   "cell_type": "code",
   "execution_count": 33,
   "metadata": {},
   "outputs": [
    {
     "data": {
      "text/plain": [
       "0   2024-06-01\n",
       "1   2024-06-01\n",
       "2   2024-06-01\n",
       "3   2024-06-01\n",
       "4   2024-06-01\n",
       "Name: DATE, dtype: datetime64[ns]"
      ]
     },
     "execution_count": 33,
     "metadata": {},
     "output_type": "execute_result"
    }
   ],
   "source": [
    "# Check the output\n",
    "data[\"DATE\"].head()"
   ]
  },
  {
   "cell_type": "markdown",
   "metadata": {
    "editable": true,
    "slideshow": {
     "slide_type": ""
    },
    "tags": []
   },
   "source": [
    "```{admonition} Pandas Series datetime properties\n",
    "\n",
    "There are several methods available for accessing information about the properties of datetime values. You can read more about datetime properties [from the pandas documentation](https://pandas.pydata.org/pandas-docs/stable/reference/series.html#datetime-properties).\n",
    "```"
   ]
  },
  {
   "cell_type": "markdown",
   "metadata": {},
   "source": [
    "With the new `DATE` column, we can now extract different time units using the [`pandas.Series.dt`](https://pandas.pydata.org/pandas-docs/stable/reference/api/pandas.Series.dt.html) accessor."
   ]
  },
  {
   "cell_type": "code",
   "execution_count": 34,
   "metadata": {},
   "outputs": [
    {
     "data": {
      "text/plain": [
       "0       2024\n",
       "1       2024\n",
       "2       2024\n",
       "3       2024\n",
       "4       2024\n",
       "        ... \n",
       "2203    2024\n",
       "2204    2024\n",
       "2205    2024\n",
       "2206    2024\n",
       "2207    2024\n",
       "Name: DATE, Length: 2208, dtype: int32"
      ]
     },
     "execution_count": 34,
     "metadata": {},
     "output_type": "execute_result"
    }
   ],
   "source": [
    "data[\"DATE\"].dt.year"
   ]
  },
  {
   "cell_type": "code",
   "execution_count": 35,
   "metadata": {},
   "outputs": [
    {
     "data": {
      "text/plain": [
       "0       6\n",
       "1       6\n",
       "2       6\n",
       "3       6\n",
       "4       6\n",
       "       ..\n",
       "2203    8\n",
       "2204    8\n",
       "2205    8\n",
       "2206    8\n",
       "2207    8\n",
       "Name: DATE, Length: 2208, dtype: int32"
      ]
     },
     "execution_count": 35,
     "metadata": {},
     "output_type": "execute_result"
    }
   ],
   "source": [
    "data[\"DATE\"].dt.month"
   ]
  },
  {
   "cell_type": "markdown",
   "metadata": {},
   "source": [
    "We can also combine the datetime functionalities with other methods from pandas. For example, we can check the number of unique months in our input data: "
   ]
  },
  {
   "cell_type": "code",
   "execution_count": 36,
   "metadata": {},
   "outputs": [
    {
     "data": {
      "text/plain": [
       "3"
      ]
     },
     "execution_count": 36,
     "metadata": {},
     "output_type": "execute_result"
    }
   ],
   "source": [
    "data[\"DATE\"].dt.month.nunique()"
   ]
  },
  {
   "cell_type": "markdown",
   "metadata": {
    "editable": true,
    "slideshow": {
     "slide_type": ""
    },
    "tags": []
   },
   "source": [
    "For the final analysis, we need combined information of the month and day. Here is another way we could achieve this:"
   ]
  },
  {
   "cell_type": "code",
   "execution_count": 34,
   "metadata": {
    "editable": true,
    "slideshow": {
     "slide_type": ""
    },
    "tags": []
   },
   "outputs": [],
   "source": [
    "# Extract month and day from the full date (as a string in 'MM-DD' format)\n",
    "data[\"MONTH_DAY_DT\"] = data[\"DATE\"].dt.strftime(\"%m-%d\")"
   ]
  },
  {
   "cell_type": "markdown",
   "metadata": {
    "editable": true,
    "slideshow": {
     "slide_type": ""
    },
    "tags": []
   },
   "source": [
    "```{admonition} Default Year Behavior in pd.to_datetime()\n",
    "When using `pd.to_datetime()` with only month (`%m`) and day (`%d`) in the format string, pandas defaults to using the year 1900. This behavior occurs because the `datetime` module requires a full date, including a year, to function properly. Without a specified year, pandas fills in the year as 1900.\n",
    "\n",
    "If you need to represent just the month and day without the year, like we do here, we can treat the values as strings using `dt.strftime(\"%m-%d\")`. This way, we avoid the default year issue.\n",
    "\n",
    "Alternatively, if you plan to perform date-based operations, you should retain the full date and simply ignore the year in your calculations.\n",
    "```"
   ]
  },
  {
   "cell_type": "code",
   "execution_count": 35,
   "metadata": {
    "editable": true,
    "slideshow": {
     "slide_type": ""
    },
    "tags": []
   },
   "outputs": [
    {
     "data": {
      "text/plain": [
       "0       06-01\n",
       "1       06-01\n",
       "2       06-01\n",
       "3       06-01\n",
       "4       06-01\n",
       "        ...  \n",
       "2203    08-31\n",
       "2204    08-31\n",
       "2205    08-31\n",
       "2206    08-31\n",
       "2207    08-31\n",
       "Name: MONTH_DAY_DT, Length: 2208, dtype: object"
      ]
     },
     "execution_count": 35,
     "metadata": {},
     "output_type": "execute_result"
    }
   ],
   "source": [
    "data[\"MONTH_DAY_DT\"]"
   ]
  },
  {
   "cell_type": "markdown",
   "metadata": {
    "editable": true,
    "slideshow": {
     "slide_type": ""
    },
    "tags": []
   },
   "source": [
    "Now we have a unique label for each DAY as a datetime object which is the same as what we made ealier without using datetime."
   ]
  },
  {
   "cell_type": "code",
   "execution_count": 36,
   "metadata": {
    "editable": true,
    "slideshow": {
     "slide_type": ""
    },
    "tags": []
   },
   "outputs": [
    {
     "data": {
      "text/plain": [
       "0       True\n",
       "1       True\n",
       "2       True\n",
       "3       True\n",
       "4       True\n",
       "        ... \n",
       "2203    True\n",
       "2204    True\n",
       "2205    True\n",
       "2206    True\n",
       "2207    True\n",
       "Length: 2208, dtype: bool"
      ]
     },
     "execution_count": 36,
     "metadata": {},
     "output_type": "execute_result"
    }
   ],
   "source": [
    "data[\"MONTH_DAY_DT\"] == data[\"MONTH_DAY\"]"
   ]
  },
  {
   "cell_type": "markdown",
   "metadata": {
    "editable": true,
    "slideshow": {
     "slide_type": ""
    },
    "tags": []
   },
   "source": [
    "## Aggregating data in pandas by grouping\n",
    "\n",
    "Here, we will learn how to use [pandas.DataFrame.groupby()](https://pandas.pydata.org/pandas-docs/stable/reference/api/pandas.DataFrame.groupby.html), which is a handy method for combining large amounts of data and computing statistics for subgroups.\n",
    "\n",
    "In our case, we will use the `.groupby()` method to calculate average temperatures for each month in three steps:\n",
    "\n",
    "1. Grouping the data based on the month and day\n",
    "2. Calculating the average for each day (each group) \n",
    "3. Storing those values into a new DataFrame called `daily_data`"
   ]
  },
  {
   "cell_type": "markdown",
   "metadata": {
    "editable": true,
    "slideshow": {
     "slide_type": ""
    },
    "tags": []
   },
   "source": [
    "Before we start grouping the data, let's once again see what our data looks like."
   ]
  },
  {
   "cell_type": "code",
   "execution_count": 37,
   "metadata": {},
   "outputs": [
    {
     "name": "stdout",
     "output_type": "stream",
     "text": [
      "number of rows: 2208\n"
     ]
    }
   ],
   "source": [
    "print(f\"number of rows: {len(data)}\")"
   ]
  },
  {
   "cell_type": "code",
   "execution_count": 38,
   "metadata": {},
   "outputs": [
    {
     "data": {
      "text/html": [
       "<div>\n",
       "<style scoped>\n",
       "    .dataframe tbody tr th:only-of-type {\n",
       "        vertical-align: middle;\n",
       "    }\n",
       "\n",
       "    .dataframe tbody tr th {\n",
       "        vertical-align: top;\n",
       "    }\n",
       "\n",
       "    .dataframe thead th {\n",
       "        text-align: right;\n",
       "    }\n",
       "</style>\n",
       "<table border=\"1\" class=\"dataframe\">\n",
       "  <thead>\n",
       "    <tr style=\"text-align: right;\">\n",
       "      <th></th>\n",
       "      <th>STATION</th>\n",
       "      <th>Year</th>\n",
       "      <th>Month</th>\n",
       "      <th>Day</th>\n",
       "      <th>TIME</th>\n",
       "      <th>TEMP_C</th>\n",
       "      <th>TEMP_F</th>\n",
       "      <th>MONTH_STR</th>\n",
       "      <th>DAY_STR</th>\n",
       "      <th>MONTH_DAY</th>\n",
       "      <th>YEAR_STR</th>\n",
       "      <th>DATE_STR</th>\n",
       "      <th>DATE</th>\n",
       "      <th>MONTH_DAY_DT</th>\n",
       "    </tr>\n",
       "  </thead>\n",
       "  <tbody>\n",
       "    <tr>\n",
       "      <th>0</th>\n",
       "      <td>Helsinki Kumpula</td>\n",
       "      <td>2024</td>\n",
       "      <td>6</td>\n",
       "      <td>1</td>\n",
       "      <td>00:00</td>\n",
       "      <td>19.3</td>\n",
       "      <td>66.74</td>\n",
       "      <td>6</td>\n",
       "      <td>1</td>\n",
       "      <td>06-01</td>\n",
       "      <td>2024</td>\n",
       "      <td>20240601</td>\n",
       "      <td>2024-06-01</td>\n",
       "      <td>06-01</td>\n",
       "    </tr>\n",
       "    <tr>\n",
       "      <th>1</th>\n",
       "      <td>Helsinki Kumpula</td>\n",
       "      <td>2024</td>\n",
       "      <td>6</td>\n",
       "      <td>1</td>\n",
       "      <td>01:00</td>\n",
       "      <td>18.9</td>\n",
       "      <td>66.02</td>\n",
       "      <td>6</td>\n",
       "      <td>1</td>\n",
       "      <td>06-01</td>\n",
       "      <td>2024</td>\n",
       "      <td>20240601</td>\n",
       "      <td>2024-06-01</td>\n",
       "      <td>06-01</td>\n",
       "    </tr>\n",
       "    <tr>\n",
       "      <th>2</th>\n",
       "      <td>Helsinki Kumpula</td>\n",
       "      <td>2024</td>\n",
       "      <td>6</td>\n",
       "      <td>1</td>\n",
       "      <td>02:00</td>\n",
       "      <td>19.7</td>\n",
       "      <td>67.46</td>\n",
       "      <td>6</td>\n",
       "      <td>1</td>\n",
       "      <td>06-01</td>\n",
       "      <td>2024</td>\n",
       "      <td>20240601</td>\n",
       "      <td>2024-06-01</td>\n",
       "      <td>06-01</td>\n",
       "    </tr>\n",
       "    <tr>\n",
       "      <th>3</th>\n",
       "      <td>Helsinki Kumpula</td>\n",
       "      <td>2024</td>\n",
       "      <td>6</td>\n",
       "      <td>1</td>\n",
       "      <td>03:00</td>\n",
       "      <td>19.4</td>\n",
       "      <td>66.92</td>\n",
       "      <td>6</td>\n",
       "      <td>1</td>\n",
       "      <td>06-01</td>\n",
       "      <td>2024</td>\n",
       "      <td>20240601</td>\n",
       "      <td>2024-06-01</td>\n",
       "      <td>06-01</td>\n",
       "    </tr>\n",
       "    <tr>\n",
       "      <th>4</th>\n",
       "      <td>Helsinki Kumpula</td>\n",
       "      <td>2024</td>\n",
       "      <td>6</td>\n",
       "      <td>1</td>\n",
       "      <td>04:00</td>\n",
       "      <td>18.5</td>\n",
       "      <td>65.30</td>\n",
       "      <td>6</td>\n",
       "      <td>1</td>\n",
       "      <td>06-01</td>\n",
       "      <td>2024</td>\n",
       "      <td>20240601</td>\n",
       "      <td>2024-06-01</td>\n",
       "      <td>06-01</td>\n",
       "    </tr>\n",
       "  </tbody>\n",
       "</table>\n",
       "</div>"
      ],
      "text/plain": [
       "            STATION  Year  Month  Day   TIME  TEMP_C  TEMP_F MONTH_STR  \\\n",
       "0  Helsinki Kumpula  2024      6    1  00:00    19.3   66.74         6   \n",
       "1  Helsinki Kumpula  2024      6    1  01:00    18.9   66.02         6   \n",
       "2  Helsinki Kumpula  2024      6    1  02:00    19.7   67.46         6   \n",
       "3  Helsinki Kumpula  2024      6    1  03:00    19.4   66.92         6   \n",
       "4  Helsinki Kumpula  2024      6    1  04:00    18.5   65.30         6   \n",
       "\n",
       "  DAY_STR MONTH_DAY YEAR_STR  DATE_STR       DATE MONTH_DAY_DT  \n",
       "0       1     06-01     2024  20240601 2024-06-01        06-01  \n",
       "1       1     06-01     2024  20240601 2024-06-01        06-01  \n",
       "2       1     06-01     2024  20240601 2024-06-01        06-01  \n",
       "3       1     06-01     2024  20240601 2024-06-01        06-01  \n",
       "4       1     06-01     2024  20240601 2024-06-01        06-01  "
      ]
     },
     "execution_count": 38,
     "metadata": {},
     "output_type": "execute_result"
    }
   ],
   "source": [
    "data.head()"
   ]
  },
  {
   "cell_type": "markdown",
   "metadata": {},
   "source": [
    "We have quite a few rows of weather data, and several observations per day. Our goal is to create an aggreated data frame that would have only one row per day.\n",
    "\n",
    "To condense our data to daily average values we can group our data based on the unique month and day combinations."
   ]
  },
  {
   "cell_type": "code",
   "execution_count": 39,
   "metadata": {},
   "outputs": [],
   "source": [
    "grouped = data.groupby(\"MONTH_DAY\")"
   ]
  },
  {
   "cell_type": "markdown",
   "metadata": {},
   "source": [
    "````{note}\n",
    "It is also possible to create combinations of months and days on the fly when grouping the data:\n",
    "    \n",
    "```python\n",
    "# Group the data \n",
    "grouped = data.groupby(['Month', 'Day'])\n",
    "```\n",
    "````"
   ]
  },
  {
   "cell_type": "markdown",
   "metadata": {},
   "source": [
    "Now, let's explore the new variable `grouped`."
   ]
  },
  {
   "cell_type": "code",
   "execution_count": 40,
   "metadata": {},
   "outputs": [
    {
     "data": {
      "text/plain": [
       "pandas.core.groupby.generic.DataFrameGroupBy"
      ]
     },
     "execution_count": 40,
     "metadata": {},
     "output_type": "execute_result"
    }
   ],
   "source": [
    "type(grouped)"
   ]
  },
  {
   "cell_type": "code",
   "execution_count": 41,
   "metadata": {},
   "outputs": [
    {
     "data": {
      "text/plain": [
       "92"
      ]
     },
     "execution_count": 41,
     "metadata": {},
     "output_type": "execute_result"
    }
   ],
   "source": [
    "len(grouped)"
   ]
  },
  {
   "cell_type": "markdown",
   "metadata": {},
   "source": [
    "We have a new object with type `DataFrameGroupBy` with 92 groups. In order to understand what just happened, let's also check the number of unique month and day combinations in our data."
   ]
  },
  {
   "cell_type": "code",
   "execution_count": 42,
   "metadata": {},
   "outputs": [
    {
     "data": {
      "text/plain": [
       "92"
      ]
     },
     "execution_count": 42,
     "metadata": {},
     "output_type": "execute_result"
    }
   ],
   "source": [
    "data[\"MONTH_DAY\"].nunique()"
   ]
  },
  {
   "cell_type": "markdown",
   "metadata": {},
   "source": [
    "Length of the grouped object should be the same as the number of unique values in the column we used for grouping. For each unique value, there is a group of data. This makes sense, as we have 92 days from first of June to the end of August. "
   ]
  },
  {
   "cell_type": "markdown",
   "metadata": {},
   "source": [
    "Let's explore our grouped data even further. \n",
    "\n",
    "We can check the \"names\" of each group."
   ]
  },
  {
   "cell_type": "code",
   "execution_count": 43,
   "metadata": {
    "editable": true,
    "slideshow": {
     "slide_type": ""
    },
    "tags": []
   },
   "outputs": [
    {
     "data": {
      "text/plain": [
       "dict_keys(['06-01', '06-02', '06-03', '06-04', '06-05', '06-06', '06-07', '06-08', '06-09', '06-10', '06-11', '06-12', '06-13', '06-14', '06-15', '06-16', '06-17', '06-18', '06-19', '06-20', '06-21', '06-22', '06-23', '06-24', '06-25', '06-26', '06-27', '06-28', '06-29', '06-30', '07-01', '07-02', '07-03', '07-04', '07-05', '07-06', '07-07', '07-08', '07-09', '07-10', '07-11', '07-12', '07-13', '07-14', '07-15', '07-16', '07-17', '07-18', '07-19', '07-20', '07-21', '07-22', '07-23', '07-24', '07-25', '07-26', '07-27', '07-28', '07-29', '07-30', '07-31', '08-01', '08-02', '08-03', '08-04', '08-05', '08-06', '08-07', '08-08', '08-09', '08-10', '08-11', '08-12', '08-13', '08-14', '08-15', '08-16', '08-17', '08-18', '08-19', '08-20', '08-21', '08-22', '08-23', '08-24', '08-25', '08-26', '08-27', '08-28', '08-29', '08-30', '08-31'])"
      ]
     },
     "execution_count": 43,
     "metadata": {},
     "output_type": "execute_result"
    }
   ],
   "source": [
    "grouped.groups.keys()"
   ]
  },
  {
   "cell_type": "markdown",
   "metadata": {
    "editable": true,
    "slideshow": {
     "slide_type": ""
    },
    "tags": []
   },
   "source": [
    "### Accessing data for one group\n",
    "\n",
    "Let us now check the contents for the group representing July 17th (the name of that group is `07-17`). We can get the values of that hour from the grouped object using the `.get_group()` method."
   ]
  },
  {
   "cell_type": "code",
   "execution_count": 44,
   "metadata": {
    "collapsed": false,
    "editable": true,
    "slideshow": {
     "slide_type": ""
    },
    "tags": []
   },
   "outputs": [],
   "source": [
    "# Specify a day (as character string)\n",
    "day = \"07-17\"\n",
    "\n",
    "# Select the group\n",
    "group1 = grouped.get_group(day)"
   ]
  },
  {
   "cell_type": "code",
   "execution_count": 45,
   "metadata": {},
   "outputs": [
    {
     "data": {
      "text/html": [
       "<div>\n",
       "<style scoped>\n",
       "    .dataframe tbody tr th:only-of-type {\n",
       "        vertical-align: middle;\n",
       "    }\n",
       "\n",
       "    .dataframe tbody tr th {\n",
       "        vertical-align: top;\n",
       "    }\n",
       "\n",
       "    .dataframe thead th {\n",
       "        text-align: right;\n",
       "    }\n",
       "</style>\n",
       "<table border=\"1\" class=\"dataframe\">\n",
       "  <thead>\n",
       "    <tr style=\"text-align: right;\">\n",
       "      <th></th>\n",
       "      <th>STATION</th>\n",
       "      <th>Year</th>\n",
       "      <th>Month</th>\n",
       "      <th>Day</th>\n",
       "      <th>TIME</th>\n",
       "      <th>TEMP_C</th>\n",
       "      <th>TEMP_F</th>\n",
       "      <th>MONTH_STR</th>\n",
       "      <th>DAY_STR</th>\n",
       "      <th>MONTH_DAY</th>\n",
       "      <th>YEAR_STR</th>\n",
       "      <th>DATE_STR</th>\n",
       "      <th>DATE</th>\n",
       "      <th>MONTH_DAY_DT</th>\n",
       "    </tr>\n",
       "  </thead>\n",
       "  <tbody>\n",
       "    <tr>\n",
       "      <th>1104</th>\n",
       "      <td>Helsinki Kumpula</td>\n",
       "      <td>2024</td>\n",
       "      <td>7</td>\n",
       "      <td>17</td>\n",
       "      <td>00:00</td>\n",
       "      <td>20.2</td>\n",
       "      <td>68.36</td>\n",
       "      <td>7</td>\n",
       "      <td>17</td>\n",
       "      <td>07-17</td>\n",
       "      <td>2024</td>\n",
       "      <td>20240717</td>\n",
       "      <td>2024-07-17</td>\n",
       "      <td>07-17</td>\n",
       "    </tr>\n",
       "    <tr>\n",
       "      <th>1105</th>\n",
       "      <td>Helsinki Kumpula</td>\n",
       "      <td>2024</td>\n",
       "      <td>7</td>\n",
       "      <td>17</td>\n",
       "      <td>01:00</td>\n",
       "      <td>19.9</td>\n",
       "      <td>67.82</td>\n",
       "      <td>7</td>\n",
       "      <td>17</td>\n",
       "      <td>07-17</td>\n",
       "      <td>2024</td>\n",
       "      <td>20240717</td>\n",
       "      <td>2024-07-17</td>\n",
       "      <td>07-17</td>\n",
       "    </tr>\n",
       "    <tr>\n",
       "      <th>1106</th>\n",
       "      <td>Helsinki Kumpula</td>\n",
       "      <td>2024</td>\n",
       "      <td>7</td>\n",
       "      <td>17</td>\n",
       "      <td>02:00</td>\n",
       "      <td>19.7</td>\n",
       "      <td>67.46</td>\n",
       "      <td>7</td>\n",
       "      <td>17</td>\n",
       "      <td>07-17</td>\n",
       "      <td>2024</td>\n",
       "      <td>20240717</td>\n",
       "      <td>2024-07-17</td>\n",
       "      <td>07-17</td>\n",
       "    </tr>\n",
       "    <tr>\n",
       "      <th>1107</th>\n",
       "      <td>Helsinki Kumpula</td>\n",
       "      <td>2024</td>\n",
       "      <td>7</td>\n",
       "      <td>17</td>\n",
       "      <td>03:00</td>\n",
       "      <td>19.8</td>\n",
       "      <td>67.64</td>\n",
       "      <td>7</td>\n",
       "      <td>17</td>\n",
       "      <td>07-17</td>\n",
       "      <td>2024</td>\n",
       "      <td>20240717</td>\n",
       "      <td>2024-07-17</td>\n",
       "      <td>07-17</td>\n",
       "    </tr>\n",
       "    <tr>\n",
       "      <th>1108</th>\n",
       "      <td>Helsinki Kumpula</td>\n",
       "      <td>2024</td>\n",
       "      <td>7</td>\n",
       "      <td>17</td>\n",
       "      <td>04:00</td>\n",
       "      <td>19.7</td>\n",
       "      <td>67.46</td>\n",
       "      <td>7</td>\n",
       "      <td>17</td>\n",
       "      <td>07-17</td>\n",
       "      <td>2024</td>\n",
       "      <td>20240717</td>\n",
       "      <td>2024-07-17</td>\n",
       "      <td>07-17</td>\n",
       "    </tr>\n",
       "    <tr>\n",
       "      <th>1109</th>\n",
       "      <td>Helsinki Kumpula</td>\n",
       "      <td>2024</td>\n",
       "      <td>7</td>\n",
       "      <td>17</td>\n",
       "      <td>05:00</td>\n",
       "      <td>20.3</td>\n",
       "      <td>68.54</td>\n",
       "      <td>7</td>\n",
       "      <td>17</td>\n",
       "      <td>07-17</td>\n",
       "      <td>2024</td>\n",
       "      <td>20240717</td>\n",
       "      <td>2024-07-17</td>\n",
       "      <td>07-17</td>\n",
       "    </tr>\n",
       "    <tr>\n",
       "      <th>1110</th>\n",
       "      <td>Helsinki Kumpula</td>\n",
       "      <td>2024</td>\n",
       "      <td>7</td>\n",
       "      <td>17</td>\n",
       "      <td>06:00</td>\n",
       "      <td>20.6</td>\n",
       "      <td>69.08</td>\n",
       "      <td>7</td>\n",
       "      <td>17</td>\n",
       "      <td>07-17</td>\n",
       "      <td>2024</td>\n",
       "      <td>20240717</td>\n",
       "      <td>2024-07-17</td>\n",
       "      <td>07-17</td>\n",
       "    </tr>\n",
       "    <tr>\n",
       "      <th>1111</th>\n",
       "      <td>Helsinki Kumpula</td>\n",
       "      <td>2024</td>\n",
       "      <td>7</td>\n",
       "      <td>17</td>\n",
       "      <td>07:00</td>\n",
       "      <td>20.8</td>\n",
       "      <td>69.44</td>\n",
       "      <td>7</td>\n",
       "      <td>17</td>\n",
       "      <td>07-17</td>\n",
       "      <td>2024</td>\n",
       "      <td>20240717</td>\n",
       "      <td>2024-07-17</td>\n",
       "      <td>07-17</td>\n",
       "    </tr>\n",
       "    <tr>\n",
       "      <th>1112</th>\n",
       "      <td>Helsinki Kumpula</td>\n",
       "      <td>2024</td>\n",
       "      <td>7</td>\n",
       "      <td>17</td>\n",
       "      <td>08:00</td>\n",
       "      <td>22.0</td>\n",
       "      <td>71.60</td>\n",
       "      <td>7</td>\n",
       "      <td>17</td>\n",
       "      <td>07-17</td>\n",
       "      <td>2024</td>\n",
       "      <td>20240717</td>\n",
       "      <td>2024-07-17</td>\n",
       "      <td>07-17</td>\n",
       "    </tr>\n",
       "    <tr>\n",
       "      <th>1113</th>\n",
       "      <td>Helsinki Kumpula</td>\n",
       "      <td>2024</td>\n",
       "      <td>7</td>\n",
       "      <td>17</td>\n",
       "      <td>09:00</td>\n",
       "      <td>21.7</td>\n",
       "      <td>71.06</td>\n",
       "      <td>7</td>\n",
       "      <td>17</td>\n",
       "      <td>07-17</td>\n",
       "      <td>2024</td>\n",
       "      <td>20240717</td>\n",
       "      <td>2024-07-17</td>\n",
       "      <td>07-17</td>\n",
       "    </tr>\n",
       "    <tr>\n",
       "      <th>1114</th>\n",
       "      <td>Helsinki Kumpula</td>\n",
       "      <td>2024</td>\n",
       "      <td>7</td>\n",
       "      <td>17</td>\n",
       "      <td>10:00</td>\n",
       "      <td>21.6</td>\n",
       "      <td>70.88</td>\n",
       "      <td>7</td>\n",
       "      <td>17</td>\n",
       "      <td>07-17</td>\n",
       "      <td>2024</td>\n",
       "      <td>20240717</td>\n",
       "      <td>2024-07-17</td>\n",
       "      <td>07-17</td>\n",
       "    </tr>\n",
       "    <tr>\n",
       "      <th>1115</th>\n",
       "      <td>Helsinki Kumpula</td>\n",
       "      <td>2024</td>\n",
       "      <td>7</td>\n",
       "      <td>17</td>\n",
       "      <td>11:00</td>\n",
       "      <td>21.7</td>\n",
       "      <td>71.06</td>\n",
       "      <td>7</td>\n",
       "      <td>17</td>\n",
       "      <td>07-17</td>\n",
       "      <td>2024</td>\n",
       "      <td>20240717</td>\n",
       "      <td>2024-07-17</td>\n",
       "      <td>07-17</td>\n",
       "    </tr>\n",
       "    <tr>\n",
       "      <th>1116</th>\n",
       "      <td>Helsinki Kumpula</td>\n",
       "      <td>2024</td>\n",
       "      <td>7</td>\n",
       "      <td>17</td>\n",
       "      <td>12:00</td>\n",
       "      <td>21.7</td>\n",
       "      <td>71.06</td>\n",
       "      <td>7</td>\n",
       "      <td>17</td>\n",
       "      <td>07-17</td>\n",
       "      <td>2024</td>\n",
       "      <td>20240717</td>\n",
       "      <td>2024-07-17</td>\n",
       "      <td>07-17</td>\n",
       "    </tr>\n",
       "    <tr>\n",
       "      <th>1117</th>\n",
       "      <td>Helsinki Kumpula</td>\n",
       "      <td>2024</td>\n",
       "      <td>7</td>\n",
       "      <td>17</td>\n",
       "      <td>13:00</td>\n",
       "      <td>21.7</td>\n",
       "      <td>71.06</td>\n",
       "      <td>7</td>\n",
       "      <td>17</td>\n",
       "      <td>07-17</td>\n",
       "      <td>2024</td>\n",
       "      <td>20240717</td>\n",
       "      <td>2024-07-17</td>\n",
       "      <td>07-17</td>\n",
       "    </tr>\n",
       "    <tr>\n",
       "      <th>1118</th>\n",
       "      <td>Helsinki Kumpula</td>\n",
       "      <td>2024</td>\n",
       "      <td>7</td>\n",
       "      <td>17</td>\n",
       "      <td>14:00</td>\n",
       "      <td>22.6</td>\n",
       "      <td>72.68</td>\n",
       "      <td>7</td>\n",
       "      <td>17</td>\n",
       "      <td>07-17</td>\n",
       "      <td>2024</td>\n",
       "      <td>20240717</td>\n",
       "      <td>2024-07-17</td>\n",
       "      <td>07-17</td>\n",
       "    </tr>\n",
       "    <tr>\n",
       "      <th>1119</th>\n",
       "      <td>Helsinki Kumpula</td>\n",
       "      <td>2024</td>\n",
       "      <td>7</td>\n",
       "      <td>17</td>\n",
       "      <td>15:00</td>\n",
       "      <td>22.9</td>\n",
       "      <td>73.22</td>\n",
       "      <td>7</td>\n",
       "      <td>17</td>\n",
       "      <td>07-17</td>\n",
       "      <td>2024</td>\n",
       "      <td>20240717</td>\n",
       "      <td>2024-07-17</td>\n",
       "      <td>07-17</td>\n",
       "    </tr>\n",
       "    <tr>\n",
       "      <th>1120</th>\n",
       "      <td>Helsinki Kumpula</td>\n",
       "      <td>2024</td>\n",
       "      <td>7</td>\n",
       "      <td>17</td>\n",
       "      <td>16:00</td>\n",
       "      <td>23.7</td>\n",
       "      <td>74.66</td>\n",
       "      <td>7</td>\n",
       "      <td>17</td>\n",
       "      <td>07-17</td>\n",
       "      <td>2024</td>\n",
       "      <td>20240717</td>\n",
       "      <td>2024-07-17</td>\n",
       "      <td>07-17</td>\n",
       "    </tr>\n",
       "    <tr>\n",
       "      <th>1121</th>\n",
       "      <td>Helsinki Kumpula</td>\n",
       "      <td>2024</td>\n",
       "      <td>7</td>\n",
       "      <td>17</td>\n",
       "      <td>17:00</td>\n",
       "      <td>24.2</td>\n",
       "      <td>75.56</td>\n",
       "      <td>7</td>\n",
       "      <td>17</td>\n",
       "      <td>07-17</td>\n",
       "      <td>2024</td>\n",
       "      <td>20240717</td>\n",
       "      <td>2024-07-17</td>\n",
       "      <td>07-17</td>\n",
       "    </tr>\n",
       "    <tr>\n",
       "      <th>1122</th>\n",
       "      <td>Helsinki Kumpula</td>\n",
       "      <td>2024</td>\n",
       "      <td>7</td>\n",
       "      <td>17</td>\n",
       "      <td>18:00</td>\n",
       "      <td>23.5</td>\n",
       "      <td>74.30</td>\n",
       "      <td>7</td>\n",
       "      <td>17</td>\n",
       "      <td>07-17</td>\n",
       "      <td>2024</td>\n",
       "      <td>20240717</td>\n",
       "      <td>2024-07-17</td>\n",
       "      <td>07-17</td>\n",
       "    </tr>\n",
       "    <tr>\n",
       "      <th>1123</th>\n",
       "      <td>Helsinki Kumpula</td>\n",
       "      <td>2024</td>\n",
       "      <td>7</td>\n",
       "      <td>17</td>\n",
       "      <td>19:00</td>\n",
       "      <td>21.2</td>\n",
       "      <td>70.16</td>\n",
       "      <td>7</td>\n",
       "      <td>17</td>\n",
       "      <td>07-17</td>\n",
       "      <td>2024</td>\n",
       "      <td>20240717</td>\n",
       "      <td>2024-07-17</td>\n",
       "      <td>07-17</td>\n",
       "    </tr>\n",
       "    <tr>\n",
       "      <th>1124</th>\n",
       "      <td>Helsinki Kumpula</td>\n",
       "      <td>2024</td>\n",
       "      <td>7</td>\n",
       "      <td>17</td>\n",
       "      <td>20:00</td>\n",
       "      <td>18.8</td>\n",
       "      <td>65.84</td>\n",
       "      <td>7</td>\n",
       "      <td>17</td>\n",
       "      <td>07-17</td>\n",
       "      <td>2024</td>\n",
       "      <td>20240717</td>\n",
       "      <td>2024-07-17</td>\n",
       "      <td>07-17</td>\n",
       "    </tr>\n",
       "    <tr>\n",
       "      <th>1125</th>\n",
       "      <td>Helsinki Kumpula</td>\n",
       "      <td>2024</td>\n",
       "      <td>7</td>\n",
       "      <td>17</td>\n",
       "      <td>21:00</td>\n",
       "      <td>18.4</td>\n",
       "      <td>65.12</td>\n",
       "      <td>7</td>\n",
       "      <td>17</td>\n",
       "      <td>07-17</td>\n",
       "      <td>2024</td>\n",
       "      <td>20240717</td>\n",
       "      <td>2024-07-17</td>\n",
       "      <td>07-17</td>\n",
       "    </tr>\n",
       "    <tr>\n",
       "      <th>1126</th>\n",
       "      <td>Helsinki Kumpula</td>\n",
       "      <td>2024</td>\n",
       "      <td>7</td>\n",
       "      <td>17</td>\n",
       "      <td>22:00</td>\n",
       "      <td>18.0</td>\n",
       "      <td>64.40</td>\n",
       "      <td>7</td>\n",
       "      <td>17</td>\n",
       "      <td>07-17</td>\n",
       "      <td>2024</td>\n",
       "      <td>20240717</td>\n",
       "      <td>2024-07-17</td>\n",
       "      <td>07-17</td>\n",
       "    </tr>\n",
       "    <tr>\n",
       "      <th>1127</th>\n",
       "      <td>Helsinki Kumpula</td>\n",
       "      <td>2024</td>\n",
       "      <td>7</td>\n",
       "      <td>17</td>\n",
       "      <td>23:00</td>\n",
       "      <td>17.9</td>\n",
       "      <td>64.22</td>\n",
       "      <td>7</td>\n",
       "      <td>17</td>\n",
       "      <td>07-17</td>\n",
       "      <td>2024</td>\n",
       "      <td>20240717</td>\n",
       "      <td>2024-07-17</td>\n",
       "      <td>07-17</td>\n",
       "    </tr>\n",
       "  </tbody>\n",
       "</table>\n",
       "</div>"
      ],
      "text/plain": [
       "               STATION  Year  Month  Day   TIME  TEMP_C  TEMP_F MONTH_STR  \\\n",
       "1104  Helsinki Kumpula  2024      7   17  00:00    20.2   68.36         7   \n",
       "1105  Helsinki Kumpula  2024      7   17  01:00    19.9   67.82         7   \n",
       "1106  Helsinki Kumpula  2024      7   17  02:00    19.7   67.46         7   \n",
       "1107  Helsinki Kumpula  2024      7   17  03:00    19.8   67.64         7   \n",
       "1108  Helsinki Kumpula  2024      7   17  04:00    19.7   67.46         7   \n",
       "1109  Helsinki Kumpula  2024      7   17  05:00    20.3   68.54         7   \n",
       "1110  Helsinki Kumpula  2024      7   17  06:00    20.6   69.08         7   \n",
       "1111  Helsinki Kumpula  2024      7   17  07:00    20.8   69.44         7   \n",
       "1112  Helsinki Kumpula  2024      7   17  08:00    22.0   71.60         7   \n",
       "1113  Helsinki Kumpula  2024      7   17  09:00    21.7   71.06         7   \n",
       "1114  Helsinki Kumpula  2024      7   17  10:00    21.6   70.88         7   \n",
       "1115  Helsinki Kumpula  2024      7   17  11:00    21.7   71.06         7   \n",
       "1116  Helsinki Kumpula  2024      7   17  12:00    21.7   71.06         7   \n",
       "1117  Helsinki Kumpula  2024      7   17  13:00    21.7   71.06         7   \n",
       "1118  Helsinki Kumpula  2024      7   17  14:00    22.6   72.68         7   \n",
       "1119  Helsinki Kumpula  2024      7   17  15:00    22.9   73.22         7   \n",
       "1120  Helsinki Kumpula  2024      7   17  16:00    23.7   74.66         7   \n",
       "1121  Helsinki Kumpula  2024      7   17  17:00    24.2   75.56         7   \n",
       "1122  Helsinki Kumpula  2024      7   17  18:00    23.5   74.30         7   \n",
       "1123  Helsinki Kumpula  2024      7   17  19:00    21.2   70.16         7   \n",
       "1124  Helsinki Kumpula  2024      7   17  20:00    18.8   65.84         7   \n",
       "1125  Helsinki Kumpula  2024      7   17  21:00    18.4   65.12         7   \n",
       "1126  Helsinki Kumpula  2024      7   17  22:00    18.0   64.40         7   \n",
       "1127  Helsinki Kumpula  2024      7   17  23:00    17.9   64.22         7   \n",
       "\n",
       "     DAY_STR MONTH_DAY YEAR_STR  DATE_STR       DATE MONTH_DAY_DT  \n",
       "1104      17     07-17     2024  20240717 2024-07-17        07-17  \n",
       "1105      17     07-17     2024  20240717 2024-07-17        07-17  \n",
       "1106      17     07-17     2024  20240717 2024-07-17        07-17  \n",
       "1107      17     07-17     2024  20240717 2024-07-17        07-17  \n",
       "1108      17     07-17     2024  20240717 2024-07-17        07-17  \n",
       "1109      17     07-17     2024  20240717 2024-07-17        07-17  \n",
       "1110      17     07-17     2024  20240717 2024-07-17        07-17  \n",
       "1111      17     07-17     2024  20240717 2024-07-17        07-17  \n",
       "1112      17     07-17     2024  20240717 2024-07-17        07-17  \n",
       "1113      17     07-17     2024  20240717 2024-07-17        07-17  \n",
       "1114      17     07-17     2024  20240717 2024-07-17        07-17  \n",
       "1115      17     07-17     2024  20240717 2024-07-17        07-17  \n",
       "1116      17     07-17     2024  20240717 2024-07-17        07-17  \n",
       "1117      17     07-17     2024  20240717 2024-07-17        07-17  \n",
       "1118      17     07-17     2024  20240717 2024-07-17        07-17  \n",
       "1119      17     07-17     2024  20240717 2024-07-17        07-17  \n",
       "1120      17     07-17     2024  20240717 2024-07-17        07-17  \n",
       "1121      17     07-17     2024  20240717 2024-07-17        07-17  \n",
       "1122      17     07-17     2024  20240717 2024-07-17        07-17  \n",
       "1123      17     07-17     2024  20240717 2024-07-17        07-17  \n",
       "1124      17     07-17     2024  20240717 2024-07-17        07-17  \n",
       "1125      17     07-17     2024  20240717 2024-07-17        07-17  \n",
       "1126      17     07-17     2024  20240717 2024-07-17        07-17  \n",
       "1127      17     07-17     2024  20240717 2024-07-17        07-17  "
      ]
     },
     "execution_count": 45,
     "metadata": {},
     "output_type": "execute_result"
    }
   ],
   "source": [
    "# Let's see what we have\n",
    "group1"
   ]
  },
  {
   "cell_type": "markdown",
   "metadata": {},
   "source": [
    "Ahaa! As we can see, a single group contains a DataFrame with values only for that specific day. Let's check the data type of this group."
   ]
  },
  {
   "cell_type": "code",
   "execution_count": 46,
   "metadata": {},
   "outputs": [
    {
     "data": {
      "text/plain": [
       "pandas.core.frame.DataFrame"
      ]
     },
     "execution_count": 46,
     "metadata": {},
     "output_type": "execute_result"
    }
   ],
   "source": [
    "type(group1)"
   ]
  },
  {
   "cell_type": "markdown",
   "metadata": {},
   "source": [
    "So, as noted above, one group is a pandas DataFrame! This is really useful, because we can now use all the familiar DataFrame methods for calculating statistics, etc. for this specific group. We can, for example, calculate the average values for all variables using the statistical functions that we have seen already (e.g. mean, std, min, max, median, etc.).\n",
    "\n",
    "Thus, we can get an average temperature for a given day using the `.mean()` function that we already did during Lesson 5. Let's calculate the mean for following attributes all at once:\n",
    "\n",
    "- `TEMP_C`\n",
    "- `TEMP_F`"
   ]
  },
  {
   "cell_type": "code",
   "execution_count": 47,
   "metadata": {
    "collapsed": false
   },
   "outputs": [
    {
     "name": "stdout",
     "output_type": "stream",
     "text": [
      "TEMP_C    20.941667\n",
      "TEMP_F    69.695000\n",
      "dtype: float64\n"
     ]
    }
   ],
   "source": [
    "# Specify the columns that will be part of the calculation\n",
    "mean_cols = [\"TEMP_C\", \"TEMP_F\"]\n",
    "\n",
    "# Calculate the mean values all at one go\n",
    "mean_values = group1[mean_cols].mean()\n",
    "\n",
    "# Let's see what we have\n",
    "print(mean_values)"
   ]
  },
  {
   "cell_type": "markdown",
   "metadata": {},
   "source": [
    "Above, we saw how you can access data from a single group. In order to get information about all groups (all months) we can use a `for` loop or methods available in the grouped object.\n",
    "\n",
    "### For loops and grouped objects\n",
    "\n",
    "When iterating over the groups in our `DataFrameGroupBy` object it is important to understand that a single group in our `DataFrameGroupBy` actually contains not only the actual values, but also information about the `key` that was used to do the grouping. Hence, when iterating over the data we need to assign the `key` and the values into separate variables.\n",
    "\n",
    "So, let's see how we can iterate over the groups and print the key and the data from a single group (again using `break` to only see what is happening for the first group)."
   ]
  },
  {
   "cell_type": "code",
   "execution_count": 48,
   "metadata": {
    "collapsed": false,
    "editable": true,
    "slideshow": {
     "slide_type": ""
    },
    "tags": []
   },
   "outputs": [
    {
     "name": "stdout",
     "output_type": "stream",
     "text": [
      "Key:\n",
      " 06-01\n",
      "\n",
      "First rows of data in this group:\n",
      "             STATION  Year  Month  Day   TIME  TEMP_C  TEMP_F MONTH_STR  \\\n",
      "0  Helsinki Kumpula  2024      6    1  00:00    19.3   66.74         6   \n",
      "1  Helsinki Kumpula  2024      6    1  01:00    18.9   66.02         6   \n",
      "2  Helsinki Kumpula  2024      6    1  02:00    19.7   67.46         6   \n",
      "3  Helsinki Kumpula  2024      6    1  03:00    19.4   66.92         6   \n",
      "4  Helsinki Kumpula  2024      6    1  04:00    18.5   65.30         6   \n",
      "\n",
      "  DAY_STR MONTH_DAY YEAR_STR  DATE_STR       DATE MONTH_DAY_DT  \n",
      "0       1     06-01     2024  20240601 2024-06-01        06-01  \n",
      "1       1     06-01     2024  20240601 2024-06-01        06-01  \n",
      "2       1     06-01     2024  20240601 2024-06-01        06-01  \n",
      "3       1     06-01     2024  20240601 2024-06-01        06-01  \n",
      "4       1     06-01     2024  20240601 2024-06-01        06-01  \n"
     ]
    }
   ],
   "source": [
    "# Iterate over groups\n",
    "for key, group in grouped:\n",
    "    # Print key and group\n",
    "    print(f\"Key:\\n {key}\")\n",
    "    print(f\"\\nFirst rows of data in this group:\\n {group.head()}\")\n",
    "\n",
    "    # Stop iteration with break command\n",
    "    break"
   ]
  },
  {
   "cell_type": "markdown",
   "metadata": {},
   "source": [
    "OK, so from here we can see that the `key` contains the name of the group `MM-DD`.\n",
    "\n",
    "Let's build on this and see how we can create a DataFrame where we calculate the mean temperatures in Celsius and Fahrenheit. We will repeat some of the earlier steps here so you can see and better understand what is happening."
   ]
  },
  {
   "cell_type": "code",
   "execution_count": 49,
   "metadata": {},
   "outputs": [],
   "source": [
    "# Create an empty DataFrame for the aggregated values\n",
    "daily_data = pd.DataFrame()\n",
    "\n",
    "# The columns that we want to aggregate\n",
    "mean_cols = [\"TEMP_F\", \"TEMP_C\"]\n",
    "\n",
    "# Iterate over the groups\n",
    "for key, group in grouped:\n",
    "\n",
    "    # Calculate mean\n",
    "    mean_values = group[mean_cols].mean()\n",
    "\n",
    "    # Add the ´key´ (i.e. the date+time information) into the aggregated values\n",
    "    mean_values[\"MONTH_DAY\"] = key\n",
    "    \n",
    "    # Convert the mean_values series to a DataFrame and make it have a row orientation\n",
    "    row = mean_values.to_frame().transpose()\n",
    "\n",
    "    # Concatenate the aggregated values into the daily_data DataFrame\n",
    "    daily_data = pd.concat([daily_data, row], ignore_index=True)"
   ]
  },
  {
   "cell_type": "markdown",
   "source": [
    "> **ℹ️ Why do we use `.transpose()` here?**  \n",
    ">\n",
    "> When we calculate the mean for each group, the result is a **Series**.  \n",
    "> Converting it with `.to_frame()` gives a **vertical column**:\n",
    ">\n",
    "> ```\n",
    ">           0\n",
    "> TEMP_F   71.2\n",
    "> TEMP_C   21.8\n",
    "> MONTH_DAY 03-07\n",
    "> ```\n",
    ">\n",
    "> But what we want is a **row** in our results table.  \n",
    "> Using `.transpose()` flips it sideways into the correct format:\n",
    ">\n",
    "> ```\n",
    "> TEMP_F   TEMP_C   MONTH_DAY\n",
    "> 71.2     21.8     03-07\n",
    "> ```\n",
    ">\n",
    "> This way, each group’s means can be concatenated cleanly into the\n",
    "> `daily_data` DataFrame.\n"
   ],
   "metadata": {
    "collapsed": false
   }
  },
  {
   "cell_type": "markdown",
   "metadata": {},
   "source": [
    "```{note}\n",
    "You can find a slightly more efficient approach for this same kind of aggregation in [Chapter 3 of the *Python for Geographic Data Analysis* textbook](https://pythongis.org/part1/chapter-03/nb/02-data-analysis.html#aggregating-data-with-groupby).\n",
    "```\n",
    "\n",
    "Now, let us see what we have."
   ]
  },
  {
   "cell_type": "code",
   "execution_count": 50,
   "metadata": {
    "collapsed": false
   },
   "outputs": [
    {
     "name": "stdout",
     "output_type": "stream",
     "text": [
      "     TEMP_F     TEMP_C MONTH_DAY\n",
      "0   71.7575    22.0875     06-01\n",
      "1   69.6575  20.920833     06-02\n",
      "2    69.635  20.908333     06-03\n",
      "3   68.9825  20.545833     06-04\n",
      "4     65.87  18.816667     06-05\n",
      "..      ...        ...       ...\n",
      "87   63.725     17.625     08-27\n",
      "88   63.605  17.558333     08-28\n",
      "89   64.025  17.791667     08-29\n",
      "90    69.23  20.683333     08-30\n",
      "91  62.4575  16.920833     08-31\n",
      "\n",
      "[92 rows x 3 columns]\n"
     ]
    }
   ],
   "source": [
    "print(daily_data)"
   ]
  },
  {
   "cell_type": "markdown",
   "metadata": {},
   "source": [
    "Awesome! Now we have aggregated our data and we have a new DataFrame called `daily_data` where we have mean values for each day in the data set."
   ]
  },
  {
   "cell_type": "markdown",
   "metadata": {},
   "source": [
    "## Detecting warm days in July\n",
    "\n",
    "Now that we have aggregated our data on daily level, we want to sort our results in order to check which days in July had the warmest temperatures on average. A simple approach is to select all the data rows from July and then group the data and check which group(s) (days in our case) have the highest mean value.\n",
    "\n"
   ]
  },
  {
   "cell_type": "code",
   "execution_count": 51,
   "metadata": {},
   "outputs": [],
   "source": [
    "July_days = data[data[\"Month\"] == 7]"
   ]
  },
  {
   "cell_type": "markdown",
   "metadata": {},
   "source": [
    "Next, we can take a subset of columns that might contain interesting information."
   ]
  },
  {
   "cell_type": "code",
   "execution_count": 52,
   "metadata": {},
   "outputs": [],
   "source": [
    "July_days = July_days[[\"TEMP_F\", \"TEMP_C\", \"MONTH_DAY\"]]"
   ]
  },
  {
   "cell_type": "markdown",
   "metadata": {},
   "source": [
    "We can group by month and day."
   ]
  },
  {
   "cell_type": "code",
   "execution_count": 53,
   "metadata": {},
   "outputs": [],
   "source": [
    "grouped = July_days.groupby(by=\"MONTH_DAY\")"
   ]
  },
  {
   "cell_type": "markdown",
   "metadata": {},
   "source": [
    "And then we can calculate the mean for each group."
   ]
  },
  {
   "cell_type": "code",
   "execution_count": 54,
   "metadata": {},
   "outputs": [],
   "source": [
    "daily_mean_July = grouped.mean()"
   ]
  },
  {
   "cell_type": "code",
   "execution_count": 55,
   "metadata": {},
   "outputs": [
    {
     "data": {
      "text/html": [
       "<div>\n",
       "<style scoped>\n",
       "    .dataframe tbody tr th:only-of-type {\n",
       "        vertical-align: middle;\n",
       "    }\n",
       "\n",
       "    .dataframe tbody tr th {\n",
       "        vertical-align: top;\n",
       "    }\n",
       "\n",
       "    .dataframe thead th {\n",
       "        text-align: right;\n",
       "    }\n",
       "</style>\n",
       "<table border=\"1\" class=\"dataframe\">\n",
       "  <thead>\n",
       "    <tr style=\"text-align: right;\">\n",
       "      <th></th>\n",
       "      <th>TEMP_F</th>\n",
       "      <th>TEMP_C</th>\n",
       "    </tr>\n",
       "    <tr>\n",
       "      <th>MONTH_DAY</th>\n",
       "      <th></th>\n",
       "      <th></th>\n",
       "    </tr>\n",
       "  </thead>\n",
       "  <tbody>\n",
       "    <tr>\n",
       "      <th>07-01</th>\n",
       "      <td>66.1250</td>\n",
       "      <td>18.958333</td>\n",
       "    </tr>\n",
       "    <tr>\n",
       "      <th>07-02</th>\n",
       "      <td>65.4875</td>\n",
       "      <td>18.604167</td>\n",
       "    </tr>\n",
       "    <tr>\n",
       "      <th>07-03</th>\n",
       "      <td>58.9400</td>\n",
       "      <td>14.966667</td>\n",
       "    </tr>\n",
       "    <tr>\n",
       "      <th>07-04</th>\n",
       "      <td>62.8175</td>\n",
       "      <td>17.120833</td>\n",
       "    </tr>\n",
       "    <tr>\n",
       "      <th>07-05</th>\n",
       "      <td>62.3000</td>\n",
       "      <td>16.833333</td>\n",
       "    </tr>\n",
       "  </tbody>\n",
       "</table>\n",
       "</div>"
      ],
      "text/plain": [
       "            TEMP_F     TEMP_C\n",
       "MONTH_DAY                    \n",
       "07-01      66.1250  18.958333\n",
       "07-02      65.4875  18.604167\n",
       "07-03      58.9400  14.966667\n",
       "07-04      62.8175  17.120833\n",
       "07-05      62.3000  16.833333"
      ]
     },
     "execution_count": 55,
     "metadata": {},
     "output_type": "execute_result"
    }
   ],
   "source": [
    "daily_mean_July.head()"
   ]
  },
  {
   "cell_type": "markdown",
   "metadata": {},
   "source": [
    "Finally, we can sort and check the highest temperature values. We can sort the data frame in a descending order to do this."
   ]
  },
  {
   "cell_type": "code",
   "execution_count": 56,
   "metadata": {},
   "outputs": [
    {
     "data": {
      "text/html": [
       "<div>\n",
       "<style scoped>\n",
       "    .dataframe tbody tr th:only-of-type {\n",
       "        vertical-align: middle;\n",
       "    }\n",
       "\n",
       "    .dataframe tbody tr th {\n",
       "        vertical-align: top;\n",
       "    }\n",
       "\n",
       "    .dataframe thead th {\n",
       "        text-align: right;\n",
       "    }\n",
       "</style>\n",
       "<table border=\"1\" class=\"dataframe\">\n",
       "  <thead>\n",
       "    <tr style=\"text-align: right;\">\n",
       "      <th></th>\n",
       "      <th>TEMP_F</th>\n",
       "      <th>TEMP_C</th>\n",
       "    </tr>\n",
       "    <tr>\n",
       "      <th>MONTH_DAY</th>\n",
       "      <th></th>\n",
       "      <th></th>\n",
       "    </tr>\n",
       "  </thead>\n",
       "  <tbody>\n",
       "    <tr>\n",
       "      <th>07-26</th>\n",
       "      <td>72.8600</td>\n",
       "      <td>22.700000</td>\n",
       "    </tr>\n",
       "    <tr>\n",
       "      <th>07-25</th>\n",
       "      <td>72.2300</td>\n",
       "      <td>22.350000</td>\n",
       "    </tr>\n",
       "    <tr>\n",
       "      <th>07-24</th>\n",
       "      <td>72.0275</td>\n",
       "      <td>22.237500</td>\n",
       "    </tr>\n",
       "    <tr>\n",
       "      <th>07-23</th>\n",
       "      <td>71.9075</td>\n",
       "      <td>22.170833</td>\n",
       "    </tr>\n",
       "    <tr>\n",
       "      <th>07-27</th>\n",
       "      <td>70.5950</td>\n",
       "      <td>21.441667</td>\n",
       "    </tr>\n",
       "    <tr>\n",
       "      <th>07-29</th>\n",
       "      <td>70.4900</td>\n",
       "      <td>21.383333</td>\n",
       "    </tr>\n",
       "    <tr>\n",
       "      <th>07-22</th>\n",
       "      <td>70.3175</td>\n",
       "      <td>21.287500</td>\n",
       "    </tr>\n",
       "    <tr>\n",
       "      <th>07-28</th>\n",
       "      <td>69.8825</td>\n",
       "      <td>21.045833</td>\n",
       "    </tr>\n",
       "    <tr>\n",
       "      <th>07-17</th>\n",
       "      <td>69.6950</td>\n",
       "      <td>20.941667</td>\n",
       "    </tr>\n",
       "    <tr>\n",
       "      <th>07-13</th>\n",
       "      <td>69.6125</td>\n",
       "      <td>20.895833</td>\n",
       "    </tr>\n",
       "  </tbody>\n",
       "</table>\n",
       "</div>"
      ],
      "text/plain": [
       "            TEMP_F     TEMP_C\n",
       "MONTH_DAY                    \n",
       "07-26      72.8600  22.700000\n",
       "07-25      72.2300  22.350000\n",
       "07-24      72.0275  22.237500\n",
       "07-23      71.9075  22.170833\n",
       "07-27      70.5950  21.441667\n",
       "07-29      70.4900  21.383333\n",
       "07-22      70.3175  21.287500\n",
       "07-28      69.8825  21.045833\n",
       "07-17      69.6950  20.941667\n",
       "07-13      69.6125  20.895833"
      ]
     },
     "execution_count": 56,
     "metadata": {},
     "output_type": "execute_result"
    }
   ],
   "source": [
    "daily_mean_July.sort_values(by=\"TEMP_C\", ascending=False).head(10)"
   ]
  },
  {
   "cell_type": "markdown",
   "metadata": {},
   "source": [
    "So, what were the warmest days in July?"
   ]
  },
  {
   "cell_type": "markdown",
   "metadata": {
    "editable": true,
    "slideshow": {
     "slide_type": ""
    },
    "tags": []
   },
   "source": [
    "## Did we break the record in Helsinki?\n",
    "\n",
    "While the average temperature provides a general sense of how warm the days typically are, the news article about record-breaking heat was based on the highest recorded temperature of the day. Now, we will redo the grouping of the data by day for the whole summer, but instead of calculating the mean temperature, we will calculate the maximum recorded temperature for each day. "
   ]
  },
  {
   "cell_type": "code",
   "execution_count": 57,
   "metadata": {
    "editable": true,
    "slideshow": {
     "slide_type": ""
    },
    "tags": []
   },
   "outputs": [
    {
     "data": {
      "text/html": [
       "<div>\n",
       "<style scoped>\n",
       "    .dataframe tbody tr th:only-of-type {\n",
       "        vertical-align: middle;\n",
       "    }\n",
       "\n",
       "    .dataframe tbody tr th {\n",
       "        vertical-align: top;\n",
       "    }\n",
       "\n",
       "    .dataframe thead th {\n",
       "        text-align: right;\n",
       "    }\n",
       "</style>\n",
       "<table border=\"1\" class=\"dataframe\">\n",
       "  <thead>\n",
       "    <tr style=\"text-align: right;\">\n",
       "      <th></th>\n",
       "      <th>STATION</th>\n",
       "      <th>Year</th>\n",
       "      <th>Month</th>\n",
       "      <th>Day</th>\n",
       "      <th>TIME</th>\n",
       "      <th>TEMP_C</th>\n",
       "      <th>TEMP_F</th>\n",
       "      <th>MONTH_STR</th>\n",
       "      <th>DAY_STR</th>\n",
       "      <th>MONTH_DAY</th>\n",
       "      <th>YEAR_STR</th>\n",
       "      <th>DATE_STR</th>\n",
       "      <th>DATE</th>\n",
       "      <th>MONTH_DAY_DT</th>\n",
       "    </tr>\n",
       "  </thead>\n",
       "  <tbody>\n",
       "    <tr>\n",
       "      <th>0</th>\n",
       "      <td>Helsinki Kumpula</td>\n",
       "      <td>2024</td>\n",
       "      <td>6</td>\n",
       "      <td>1</td>\n",
       "      <td>00:00</td>\n",
       "      <td>19.3</td>\n",
       "      <td>66.74</td>\n",
       "      <td>6</td>\n",
       "      <td>1</td>\n",
       "      <td>06-01</td>\n",
       "      <td>2024</td>\n",
       "      <td>20240601</td>\n",
       "      <td>2024-06-01</td>\n",
       "      <td>06-01</td>\n",
       "    </tr>\n",
       "    <tr>\n",
       "      <th>1</th>\n",
       "      <td>Helsinki Kumpula</td>\n",
       "      <td>2024</td>\n",
       "      <td>6</td>\n",
       "      <td>1</td>\n",
       "      <td>01:00</td>\n",
       "      <td>18.9</td>\n",
       "      <td>66.02</td>\n",
       "      <td>6</td>\n",
       "      <td>1</td>\n",
       "      <td>06-01</td>\n",
       "      <td>2024</td>\n",
       "      <td>20240601</td>\n",
       "      <td>2024-06-01</td>\n",
       "      <td>06-01</td>\n",
       "    </tr>\n",
       "    <tr>\n",
       "      <th>2</th>\n",
       "      <td>Helsinki Kumpula</td>\n",
       "      <td>2024</td>\n",
       "      <td>6</td>\n",
       "      <td>1</td>\n",
       "      <td>02:00</td>\n",
       "      <td>19.7</td>\n",
       "      <td>67.46</td>\n",
       "      <td>6</td>\n",
       "      <td>1</td>\n",
       "      <td>06-01</td>\n",
       "      <td>2024</td>\n",
       "      <td>20240601</td>\n",
       "      <td>2024-06-01</td>\n",
       "      <td>06-01</td>\n",
       "    </tr>\n",
       "    <tr>\n",
       "      <th>3</th>\n",
       "      <td>Helsinki Kumpula</td>\n",
       "      <td>2024</td>\n",
       "      <td>6</td>\n",
       "      <td>1</td>\n",
       "      <td>03:00</td>\n",
       "      <td>19.4</td>\n",
       "      <td>66.92</td>\n",
       "      <td>6</td>\n",
       "      <td>1</td>\n",
       "      <td>06-01</td>\n",
       "      <td>2024</td>\n",
       "      <td>20240601</td>\n",
       "      <td>2024-06-01</td>\n",
       "      <td>06-01</td>\n",
       "    </tr>\n",
       "    <tr>\n",
       "      <th>4</th>\n",
       "      <td>Helsinki Kumpula</td>\n",
       "      <td>2024</td>\n",
       "      <td>6</td>\n",
       "      <td>1</td>\n",
       "      <td>04:00</td>\n",
       "      <td>18.5</td>\n",
       "      <td>65.30</td>\n",
       "      <td>6</td>\n",
       "      <td>1</td>\n",
       "      <td>06-01</td>\n",
       "      <td>2024</td>\n",
       "      <td>20240601</td>\n",
       "      <td>2024-06-01</td>\n",
       "      <td>06-01</td>\n",
       "    </tr>\n",
       "  </tbody>\n",
       "</table>\n",
       "</div>"
      ],
      "text/plain": [
       "            STATION  Year  Month  Day   TIME  TEMP_C  TEMP_F MONTH_STR  \\\n",
       "0  Helsinki Kumpula  2024      6    1  00:00    19.3   66.74         6   \n",
       "1  Helsinki Kumpula  2024      6    1  01:00    18.9   66.02         6   \n",
       "2  Helsinki Kumpula  2024      6    1  02:00    19.7   67.46         6   \n",
       "3  Helsinki Kumpula  2024      6    1  03:00    19.4   66.92         6   \n",
       "4  Helsinki Kumpula  2024      6    1  04:00    18.5   65.30         6   \n",
       "\n",
       "  DAY_STR MONTH_DAY YEAR_STR  DATE_STR       DATE MONTH_DAY_DT  \n",
       "0       1     06-01     2024  20240601 2024-06-01        06-01  \n",
       "1       1     06-01     2024  20240601 2024-06-01        06-01  \n",
       "2       1     06-01     2024  20240601 2024-06-01        06-01  \n",
       "3       1     06-01     2024  20240601 2024-06-01        06-01  \n",
       "4       1     06-01     2024  20240601 2024-06-01        06-01  "
      ]
     },
     "execution_count": 57,
     "metadata": {},
     "output_type": "execute_result"
    }
   ],
   "source": [
    "data.head()"
   ]
  },
  {
   "cell_type": "code",
   "execution_count": 58,
   "metadata": {},
   "outputs": [
    {
     "data": {
      "text/html": [
       "<div>\n",
       "<style scoped>\n",
       "    .dataframe tbody tr th:only-of-type {\n",
       "        vertical-align: middle;\n",
       "    }\n",
       "\n",
       "    .dataframe tbody tr th {\n",
       "        vertical-align: top;\n",
       "    }\n",
       "\n",
       "    .dataframe thead th {\n",
       "        text-align: right;\n",
       "    }\n",
       "</style>\n",
       "<table border=\"1\" class=\"dataframe\">\n",
       "  <thead>\n",
       "    <tr style=\"text-align: right;\">\n",
       "      <th></th>\n",
       "      <th>MAX_C</th>\n",
       "    </tr>\n",
       "    <tr>\n",
       "      <th>MONTH_DAY</th>\n",
       "      <th></th>\n",
       "    </tr>\n",
       "  </thead>\n",
       "  <tbody>\n",
       "    <tr>\n",
       "      <th>06-01</th>\n",
       "      <td>26.2</td>\n",
       "    </tr>\n",
       "    <tr>\n",
       "      <th>06-02</th>\n",
       "      <td>24.5</td>\n",
       "    </tr>\n",
       "    <tr>\n",
       "      <th>06-03</th>\n",
       "      <td>25.7</td>\n",
       "    </tr>\n",
       "    <tr>\n",
       "      <th>06-04</th>\n",
       "      <td>24.6</td>\n",
       "    </tr>\n",
       "    <tr>\n",
       "      <th>06-05</th>\n",
       "      <td>23.3</td>\n",
       "    </tr>\n",
       "  </tbody>\n",
       "</table>\n",
       "</div>"
      ],
      "text/plain": [
       "           MAX_C\n",
       "MONTH_DAY       \n",
       "06-01       26.2\n",
       "06-02       24.5\n",
       "06-03       25.7\n",
       "06-04       24.6\n",
       "06-05       23.3"
      ]
     },
     "execution_count": 58,
     "metadata": {},
     "output_type": "execute_result"
    }
   ],
   "source": [
    "# Select all days and leep only two columns\n",
    "summer_days = data[[\"TEMP_C\", \"MONTH_DAY\"]]\n",
    "\n",
    "# Group data based by days\n",
    "grouped = summer_days.groupby(by=\"MONTH_DAY\")\n",
    "\n",
    "# Calculate the daily maximum temperature\n",
    "daily_max = grouped.max()\n",
    "\n",
    "# Rename the column TEMP_C to MAX_C for better clarity\n",
    "daily_max = daily_max.rename(columns={\"TEMP_C\": \"MAX_C\"})\n",
    "\n",
    "# View the first five rows of output data\n",
    "daily_max.head()"
   ]
  },
  {
   "cell_type": "markdown",
   "metadata": {},
   "source": [
    "Now let's count the number of hot days (>= 25 degrees celsius) in Helsinki and see whether the country record was also broken in Helsinki or not?"
   ]
  },
  {
   "cell_type": "code",
   "execution_count": 59,
   "metadata": {},
   "outputs": [
    {
     "name": "stdout",
     "output_type": "stream",
     "text": [
      "In the summer of 2024, there were 12 days with temperatures exceeding 25°C.\n"
     ]
    }
   ],
   "source": [
    "# Try it your self\n",
    "count_hot_days = len(daily_max[daily_max[\"MAX_C\"] >= 25])\n",
    "print(f\"In the summer of 2024, there were {count_hot_days} days with temperatures exceeding 25°C.\")"
   ]
  },
  {
   "cell_type": "markdown",
   "metadata": {
    "editable": true,
    "slideshow": {
     "slide_type": ""
    },
    "tags": []
   },
   "source": [
    "## Repeating the data analysis with a larger dataset\n",
    "\n",
    "To wrap up today's lesson, let's repeat the data analysis steps above for all the available data we have (!). Of course we want to automate this process and not repeate the process for each dataset. \n",
    "\n",
    "The idea is, that we will repeat the analysis process for each input file using a (rather long) for loop! Here we have all the main analysis steps with some additional output info, all in one long code cell.\n",
    "\n",
    "At this point we will use the `.glob()` function from the module `glob` to list our input files. glob is a handy function for finding files in a directrory that match a given pattern, for example."
   ]
  },
  {
   "cell_type": "code",
   "execution_count": 61,
   "metadata": {
    "editable": true,
    "slideshow": {
     "slide_type": ""
    },
    "tags": []
   },
   "outputs": [],
   "source": [
    "import glob"
   ]
  },
  {
   "cell_type": "code",
   "execution_count": 62,
   "metadata": {},
   "outputs": [],
   "source": [
    "file_list = glob.glob(r\"data/*csv\")"
   ]
  },
  {
   "cell_type": "markdown",
   "metadata": {
    "editable": true,
    "slideshow": {
     "slide_type": ""
    },
    "tags": []
   },
   "source": [
    "```{note}\n",
    "Note that we're using the \\* character as a wildcard, so any file that starts with `data/` and ends with `csv` will be added to the list of files we will iterate over. In our case there are not other data files in this directory. But this can be specifically useful if there are other files in the folder which we do not want to include in the analysis. \n",
    "```"
   ]
  },
  {
   "cell_type": "code",
   "execution_count": 63,
   "metadata": {
    "editable": true,
    "slideshow": {
     "slide_type": ""
    },
    "tags": []
   },
   "outputs": [
    {
     "name": "stdout",
     "output_type": "stream",
     "text": [
      "Number of files in the list: 6\n",
      "['data/Lappeenranta_airport.csv', 'data/Porvoo_Emäsalo.csv', 'data/Helsinki_Kumpula.csv', 'data/Turku_Rajakari.csv', 'data/Rovaniemi_station.csv', 'data/Oulu_harbour.csv']\n"
     ]
    }
   ],
   "source": [
    "print(f\"Number of files in the list: {len(file_list)}\")\n",
    "print(file_list)"
   ]
  },
  {
   "cell_type": "markdown",
   "metadata": {},
   "source": [
    "Now, you should have all the relevant file names in a list, and we can loop over the list using a `for` loop."
   ]
  },
  {
   "cell_type": "code",
   "execution_count": 64,
   "metadata": {},
   "outputs": [
    {
     "name": "stdout",
     "output_type": "stream",
     "text": [
      "data/Lappeenranta_airport.csv\n",
      "data/Porvoo_Emäsalo.csv\n",
      "data/Helsinki_Kumpula.csv\n",
      "data/Turku_Rajakari.csv\n",
      "data/Rovaniemi_station.csv\n",
      "data/Oulu_harbour.csv\n"
     ]
    }
   ],
   "source": [
    "for fp in file_list:\n",
    "    print(fp)"
   ]
  },
  {
   "cell_type": "markdown",
   "metadata": {
    "editable": true,
    "slideshow": {
     "slide_type": ""
    },
    "tags": []
   },
   "source": [
    "And here is our `for` loop to repeat the calculation for all our data from the different stations: "
   ]
  },
  {
   "cell_type": "code",
   "execution_count": 65,
   "metadata": {
    "collapsed": false,
    "editable": true,
    "slideshow": {
     "slide_type": ""
    },
    "tags": []
   },
   "outputs": [
    {
     "name": "stdout",
     "output_type": "stream",
     "text": [
      "In the summer of 2024, there were 17 days with temperatures exceeding 25°C in data/Lappeenranta_airport\n",
      "\n",
      "\n",
      "In the summer of 2024, there were 0 days with temperatures exceeding 25°C in data/Porvoo_Emäsalo\n",
      "\n",
      "\n",
      "In the summer of 2024, there were 12 days with temperatures exceeding 25°C in data/Helsinki_Kumpula\n",
      "\n",
      "\n",
      "In the summer of 2024, there were 2 days with temperatures exceeding 25°C in data/Turku_Rajakari\n",
      "\n",
      "\n",
      "In the summer of 2024, there were 12 days with temperatures exceeding 25°C in data/Rovaniemi_station\n",
      "\n",
      "\n",
      "In the summer of 2024, there were 5 days with temperatures exceeding 25°C in data/Oulu_harbour\n"
     ]
    }
   ],
   "source": [
    "# Repeat the analysis steps for each input file:\n",
    "for fp in file_list:\n",
    "    \n",
    "    # read the data, some datasets have missing values filled as \"-\"\n",
    "    data = pd.read_csv(\n",
    "        fp,\n",
    "        usecols=['Observation station', 'Year', 'Month', 'Day','Time [Local time]', 'Air temperature mean [°C]'], na_values=[\"-\"])\n",
    "    \n",
    "    # Create the dictionary with old and new names\n",
    "    new_names = {\"Observation station\": \"STATION\", \"Time [Local time]\": \"TIME\", \"Air temperature mean [°C]\": \"TEMP_C\"}\n",
    "    \n",
    "    # Rename the columns\n",
    "    data = data.rename(columns=new_names)\n",
    "    \n",
    "    # Convert to string\n",
    "    data[\"MONTH_STR\"] = data[\"Month\"].astype(str)\n",
    "    data[\"DAY_STR\"] = data[\"Day\"].astype(str)\n",
    "    \n",
    "    # Combine the two strings\n",
    "    data[\"MONTH_DAY\"] = data[\"MONTH_STR\"].str.zfill(2) + \"-\" + data[\"DAY_STR\"].str.zfill(2)\n",
    "    \n",
    "    # Select all days and leep only two columns\n",
    "    summer_days = data[[\"TEMP_C\", \"MONTH_DAY\"]]\n",
    "    \n",
    "    # Group data based by days\n",
    "    grouped = summer_days.groupby(by=\"MONTH_DAY\")\n",
    "    \n",
    "    # Calculate the daily maximum temperature\n",
    "    daily_max = grouped.max()\n",
    "\n",
    "    # Rename the column TEMP_C to MAX_C for better clarity\n",
    "    daily_max = daily_max.rename(columns={\"TEMP_C\": \"MAX_C\"})\n",
    "    \n",
    "    count_hot_days = len(daily_max[daily_max[\"MAX_C\"] >= 25])\n",
    "    \n",
    "    # Extract station name from fp - the part of the string between 'data/' and '.csv'\n",
    "    station_name = fp.replace(\"\\\\\", \"/\").split(\"/\")[-1].replace(\".csv\", \"\")\n",
    "    \n",
    "    print(f\"In the summer of 2024, there were {count_hot_days} days with temperatures exceeding 25°C in {station_name}\")\n",
    "    print(\"\\n\")"
   ]
  },
  {
   "cell_type": "markdown",
   "metadata": {},
   "source": [
    "So, what can we conclude about record breaking hot days in Summer 2024 in Finland?"
   ]
  }
 ],
 "metadata": {
  "kernelspec": {
   "display_name": "Python 3 (ipykernel)",
   "language": "python",
   "name": "python3"
  },
  "language_info": {
   "codemirror_mode": {
    "name": "ipython",
    "version": 3
   },
   "file_extension": ".py",
   "mimetype": "text/x-python",
   "name": "python",
   "nbconvert_exporter": "python",
   "pygments_lexer": "ipython3",
   "version": "3.11.6"
  }
 },
 "nbformat": 4,
 "nbformat_minor": 4
}
